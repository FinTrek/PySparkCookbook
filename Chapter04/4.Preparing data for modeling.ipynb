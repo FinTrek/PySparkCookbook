{
 "cells": [
  {
   "cell_type": "markdown",
   "metadata": {},
   "source": [
    "# PySpark Cookbook\n",
    "\n",
    "### Tomasz Drabas, Denny Lee\n",
    "#### Version: 0.1\n",
    "#### Date: 1/15/2018"
   ]
  },
  {
   "cell_type": "markdown",
   "metadata": {},
   "source": [
    "# Some data"
   ]
  },
  {
   "cell_type": "code",
   "execution_count": 1,
   "metadata": {},
   "outputs": [
    {
     "name": "stdout",
     "output_type": "stream",
     "text": [
      "Starting Spark application\n"
     ]
    },
    {
     "data": {
      "text/html": [
       "<table>\n",
       "<tr><th>ID</th><th>YARN Application ID</th><th>Kind</th><th>State</th><th>Spark UI</th><th>Driver log</th><th>Current session?</th></tr><tr><td>7</td><td>None</td><td>pyspark3</td><td>idle</td><td></td><td></td><td>✔</td></tr></table>"
      ],
      "text/plain": [
       "<IPython.core.display.HTML object>"
      ]
     },
     "metadata": {},
     "output_type": "display_data"
    },
    {
     "name": "stdout",
     "output_type": "stream",
     "text": [
      "SparkSession available as 'spark'.\n"
     ]
    }
   ],
   "source": [
    "dirty_data = spark.createDataFrame([\n",
    "          (1,'Porsche','Boxster S','Turbo',2.5,4,22,None)\n",
    "        , (2,'Aston Martin','Vanquish','Aspirated',6.0,12,16,None)\n",
    "        , (3,'Porsche','911 Carrera 4S Cabriolet','Turbo',3.0,6,24,None)\n",
    "        , (3,'General Motors','SPARK ACTIV','Aspirated',1.4,None,32,None)\n",
    "        , (5,'BMW','COOPER S HARDTOP 2 DOOR','Turbo',2.0,4,26,None)\n",
    "        , (6,'BMW','330i','Turbo',2.0,None,27,None)\n",
    "        , (7,'BMW','440i Coupe','Turbo',3.0,6,23,None)\n",
    "        , (8,'BMW','440i Coupe','Turbo',3.0,6,23,None)\n",
    "        , (9,'Mercedes-Benz',None,None,None,None,27,None)\n",
    "        , (10,'Mercedes-Benz','CLS 550','Turbo',4.7,8,21,79231)\n",
    "        , (11,'Volkswagen','GTI','Turbo',2.0,4,None,None)\n",
    "        , (12,'Ford Motor Company','FUSION AWD','Turbo',2.7,6,20,None)\n",
    "        , (13,'Nissan','Q50 AWD RED SPORT','Turbo',3.0,6,22,None)\n",
    "        , (14,'Nissan','Q70 AWD','Aspirated',5.6,8,18,None)\n",
    "        , (15,'Kia','Stinger RWD','Turbo',2.0,4,25,None)\n",
    "        , (16,'Toyota','CAMRY HYBRID LE','Aspirated',2.5,4,46,None)\n",
    "        , (16,'Toyota','CAMRY HYBRID LE','Aspirated',2.5,4,46,None)\n",
    "        , (18,'FCA US LLC','300','Aspirated',3.6,6,23,None)\n",
    "        , (19,'Hyundai','G80 AWD','Turbo',3.3,6,20,None)\n",
    "        , (20,'Hyundai','G80 AWD','Turbo',3.3,6,20,None)\n",
    "        , (21,'BMW','X5 M','Turbo',4.4,8,18,121231)\n",
    "        , (22,'GE','K1500 SUBURBAN 4WD','Aspirated',5.3,8,18,None)\n",
    "    ], ['Id','Manufacturer','Model','EngineType','Displacement',\n",
    "        'Cylinders','FuelEconomy','MSRP'])"
   ]
  },
  {
   "cell_type": "markdown",
   "metadata": {},
   "source": [
    "# Handling duplicates"
   ]
  },
  {
   "cell_type": "markdown",
   "metadata": {},
   "source": [
    "### Exact duplicates"
   ]
  },
  {
   "cell_type": "code",
   "execution_count": 2,
   "metadata": {},
   "outputs": [
    {
     "name": "stdout",
     "output_type": "stream",
     "text": [
      "(22, 21)"
     ]
    }
   ],
   "source": [
    "# do we have any rows that are duplicated?\n",
    "dirty_data.count(), dirty_data.distinct().count()"
   ]
  },
  {
   "cell_type": "code",
   "execution_count": 3,
   "metadata": {},
   "outputs": [
    {
     "name": "stdout",
     "output_type": "stream",
     "text": [
      "+---+------------+---------------+----------+------------+---------+-----------+----+-----+\n",
      "| Id|Manufacturer|          Model|EngineType|Displacement|Cylinders|FuelEconomy|MSRP|count|\n",
      "+---+------------+---------------+----------+------------+---------+-----------+----+-----+\n",
      "| 16|      Toyota|CAMRY HYBRID LE| Aspirated|         2.5|        4|         46|null|    2|\n",
      "+---+------------+---------------+----------+------------+---------+-----------+----+-----+"
     ]
    }
   ],
   "source": [
    "# what row is duplicated?\n",
    "(\n",
    "    dirty_data\n",
    "    .groupby(dirty_data.columns)\n",
    "    .count()\n",
    "    .filter('count > 1')\n",
    "    .show()\n",
    ")"
   ]
  },
  {
   "cell_type": "code",
   "execution_count": 4,
   "metadata": {},
   "outputs": [
    {
     "name": "stdout",
     "output_type": "stream",
     "text": [
      "21"
     ]
    }
   ],
   "source": [
    "# remove the duplicated rows\n",
    "full_removed = dirty_data.dropDuplicates()\n",
    "full_removed.count()"
   ]
  },
  {
   "cell_type": "markdown",
   "metadata": {},
   "source": [
    "### Only ID differs"
   ]
  },
  {
   "cell_type": "code",
   "execution_count": 5,
   "metadata": {},
   "outputs": [
    {
     "name": "stdout",
     "output_type": "stream",
     "text": [
      "(21, 19)"
     ]
    }
   ],
   "source": [
    "# count of rows\n",
    "no_ids = (\n",
    "    full_removed\n",
    "    .select([col for col in full_removed.columns if col != 'Id'])\n",
    ")\n",
    "\n",
    "no_ids.count(), no_ids.distinct().count()"
   ]
  },
  {
   "cell_type": "code",
   "execution_count": 6,
   "metadata": {},
   "outputs": [
    {
     "name": "stdout",
     "output_type": "stream",
     "text": [
      "+------------+----------+----------+------------+---------+-----------+----+-----+\n",
      "|Manufacturer|     Model|EngineType|Displacement|Cylinders|FuelEconomy|MSRP|count|\n",
      "+------------+----------+----------+------------+---------+-----------+----+-----+\n",
      "|         BMW|440i Coupe|     Turbo|         3.0|        6|         23|null|    2|\n",
      "|     Hyundai|   G80 AWD|     Turbo|         3.3|        6|         20|null|    2|\n",
      "+------------+----------+----------+------------+---------+-----------+----+-----+"
     ]
    }
   ],
   "source": [
    "# what row is duplicated?\n",
    "(\n",
    "    full_removed\n",
    "    .groupby([col for col in full_removed.columns if col != 'Id'])\n",
    "    .count()\n",
    "    .filter('count > 1')\n",
    "    .show()\n",
    ")"
   ]
  },
  {
   "cell_type": "code",
   "execution_count": 7,
   "metadata": {
    "collapsed": true
   },
   "outputs": [],
   "source": [
    "# remove the duplicated record\n",
    "id_removed = full_removed.dropDuplicates(\n",
    "    subset = [col for col in full_removed.columns if col != 'Id']\n",
    ")"
   ]
  },
  {
   "cell_type": "code",
   "execution_count": 8,
   "metadata": {},
   "outputs": [
    {
     "name": "stdout",
     "output_type": "stream",
     "text": [
      "19"
     ]
    }
   ],
   "source": [
    "# count\n",
    "id_removed.count()"
   ]
  },
  {
   "cell_type": "markdown",
   "metadata": {},
   "source": [
    "### Duplicated IDs"
   ]
  },
  {
   "cell_type": "code",
   "execution_count": 9,
   "metadata": {},
   "outputs": [
    {
     "name": "stdout",
     "output_type": "stream",
     "text": [
      "+----------+------------------+\n",
      "|CountOfIDs|CountOfDistinctIDs|\n",
      "+----------+------------------+\n",
      "|        19|                18|\n",
      "+----------+------------------+"
     ]
    }
   ],
   "source": [
    "# are there any duplicated IDs?\n",
    "import pyspark.sql.functions as fn\n",
    "\n",
    "id_removed.agg(\n",
    "      fn.count('Id').alias('CountOfIDs')\n",
    "    , fn.countDistinct('Id').alias('CountOfDistinctIDs')\n",
    ").show()"
   ]
  },
  {
   "cell_type": "code",
   "execution_count": 10,
   "metadata": {},
   "outputs": [
    {
     "name": "stdout",
     "output_type": "stream",
     "text": [
      "+---+-----+\n",
      "| Id|count|\n",
      "+---+-----+\n",
      "|  3|    2|\n",
      "+---+-----+"
     ]
    }
   ],
   "source": [
    "# what's duplicated?\n",
    "(\n",
    "    id_removed\n",
    "    .groupby('Id')\n",
    "    .count()\n",
    "    .filter('count > 1')\n",
    "    .show()\n",
    ")"
   ]
  },
  {
   "cell_type": "code",
   "execution_count": 11,
   "metadata": {},
   "outputs": [
    {
     "name": "stdout",
     "output_type": "stream",
     "text": [
      "+---+--------------+--------------------+----------+------------+---------+-----------+----+\n",
      "| Id|  Manufacturer|               Model|EngineType|Displacement|Cylinders|FuelEconomy|MSRP|\n",
      "+---+--------------+--------------------+----------+------------+---------+-----------+----+\n",
      "|  3|General Motors|         SPARK ACTIV| Aspirated|         1.4|     null|         32|null|\n",
      "|  3|       Porsche|911 Carrera 4S Ca...|     Turbo|         3.0|        6|         24|null|\n",
      "+---+--------------+--------------------+----------+------------+---------+-----------+----+"
     ]
    }
   ],
   "source": [
    "(\n",
    "    id_removed\n",
    "    .filter('Id = 3')\n",
    "    .show()\n",
    ")"
   ]
  },
  {
   "cell_type": "code",
   "execution_count": 12,
   "metadata": {},
   "outputs": [
    {
     "name": "stdout",
     "output_type": "stream",
     "text": [
      "+-------------+------------------+--------------------+----------+------------+---------+-----------+------+\n",
      "|           Id|      Manufacturer|               Model|EngineType|Displacement|Cylinders|FuelEconomy|  MSRP|\n",
      "+-------------+------------------+--------------------+----------+------------+---------+-----------+------+\n",
      "|   8589934592|    General Motors|         SPARK ACTIV| Aspirated|         1.4|     null|         32|  null|\n",
      "| 188978561024|     Mercedes-Benz|             CLS 550|     Turbo|         4.7|        8|         21| 79231|\n",
      "| 197568495616|     Mercedes-Benz|                null|      null|        null|     null|         27|  null|\n",
      "| 206158430208|Ford Motor Company|          FUSION AWD|     Turbo|         2.7|        6|         20|  null|\n",
      "| 438086664192|               BMW|COOPER S HARDTOP ...|     Turbo|         2.0|        4|         26|  null|\n",
      "| 523986010112|      Aston Martin|            Vanquish| Aspirated|         6.0|       12|         16|  null|\n",
      "| 721554505728|        Volkswagen|                 GTI|     Turbo|         2.0|        4|       null|  null|\n",
      "| 764504178688|               Kia|         Stinger RWD|     Turbo|         2.0|        4|         25|  null|\n",
      "| 919123001344|               BMW|                330i|     Turbo|         2.0|     null|         27|  null|\n",
      "| 944892805120|           Porsche|           Boxster S|     Turbo|         2.5|        4|         22|  null|\n",
      "| 970662608896|        FCA US LLC|                 300| Aspirated|         3.6|        6|         23|  null|\n",
      "|1030792151040|           Hyundai|             G80 AWD|     Turbo|         3.3|        6|         20|  null|\n",
      "|1039382085632|               BMW|          440i Coupe|     Turbo|         3.0|        6|         23|  null|\n",
      "|1116691496960|            Nissan|   Q50 AWD RED SPORT|     Turbo|         3.0|        6|         22|  null|\n",
      "|1211180777472|               BMW|                X5 M|     Turbo|         4.4|        8|         18|121231|\n",
      "|1331439861760|            Nissan|             Q70 AWD| Aspirated|         5.6|        8|         18|  null|\n",
      "|1606317768704|           Porsche|911 Carrera 4S Ca...|     Turbo|         3.0|        6|         24|  null|\n",
      "|1614907703296|            Toyota|     CAMRY HYBRID LE| Aspirated|         2.5|        4|         46|  null|\n",
      "|1700807049216|                GE|  K1500 SUBURBAN 4WD| Aspirated|         5.3|        8|         18|  null|\n",
      "+-------------+------------------+--------------------+----------+------------+---------+-----------+------+"
     ]
    }
   ],
   "source": [
    "new_id = (\n",
    "    id_removed\n",
    "    .select(\n",
    "        [fn.monotonically_increasing_id().alias('Id')] + \n",
    "        [col for col in id_removed.columns if col != 'Id'])\n",
    ")\n",
    "\n",
    "new_id.show()"
   ]
  },
  {
   "cell_type": "markdown",
   "metadata": {},
   "source": [
    "# Handling missing observations"
   ]
  },
  {
   "cell_type": "markdown",
   "metadata": {
    "collapsed": true
   },
   "source": [
    "### Missing observations per row"
   ]
  },
  {
   "cell_type": "code",
   "execution_count": 13,
   "metadata": {},
   "outputs": [
    {
     "name": "stdout",
     "output_type": "stream",
     "text": [
      "+------------+------------+\n",
      "|          Id|CountMissing|\n",
      "+------------+------------+\n",
      "|197568495616|           5|\n",
      "|  8589934592|           2|\n",
      "|919123001344|           2|\n",
      "|721554505728|           2|\n",
      "+------------+------------+"
     ]
    }
   ],
   "source": [
    "(\n",
    "    spark.createDataFrame(\n",
    "        new_id.rdd.map(\n",
    "           lambda row: (\n",
    "                 row['Id']\n",
    "               , sum([c == None for c in row])\n",
    "           )\n",
    "        )\n",
    "        .filter(lambda el: el[1] > 1)\n",
    "        .collect()\n",
    "        ,['Id', 'CountMissing']\n",
    "    )\n",
    "    .orderBy('CountMissing', ascending=False)\n",
    "    .show()\n",
    ")"
   ]
  },
  {
   "cell_type": "code",
   "execution_count": 14,
   "metadata": {},
   "outputs": [
    {
     "name": "stdout",
     "output_type": "stream",
     "text": [
      "+------------+-------------+-----+----------+------------+---------+-----------+----+\n",
      "|          Id| Manufacturer|Model|EngineType|Displacement|Cylinders|FuelEconomy|MSRP|\n",
      "+------------+-------------+-----+----------+------------+---------+-----------+----+\n",
      "|197568495616|Mercedes-Benz| null|      null|        null|     null|         27|null|\n",
      "+------------+-------------+-----+----------+------------+---------+-----------+----+"
     ]
    }
   ],
   "source": [
    "(\n",
    "    new_id\n",
    "    .where('Id == 197568495616')\n",
    "    .show()\n",
    ")"
   ]
  },
  {
   "cell_type": "code",
   "execution_count": 15,
   "metadata": {},
   "outputs": [
    {
     "name": "stdout",
     "output_type": "stream",
     "text": [
      "(19, 18)"
     ]
    }
   ],
   "source": [
    "merc_out = new_id.dropna(thresh=4)\n",
    "new_id.count(), merc_out.count()"
   ]
  },
  {
   "cell_type": "code",
   "execution_count": 16,
   "metadata": {},
   "outputs": [
    {
     "name": "stdout",
     "output_type": "stream",
     "text": [
      "+---+------------+-----+----------+------------+---------+-----------+----+\n",
      "| Id|Manufacturer|Model|EngineType|Displacement|Cylinders|FuelEconomy|MSRP|\n",
      "+---+------------+-----+----------+------------+---------+-----------+----+\n",
      "+---+------------+-----+----------+------------+---------+-----------+----+"
     ]
    }
   ],
   "source": [
    "(\n",
    "    merc_out\n",
    "    .where('Id == 197568495616')\n",
    "    .show()\n",
    ")"
   ]
  },
  {
   "cell_type": "markdown",
   "metadata": {},
   "source": [
    "### Missing observations per column"
   ]
  },
  {
   "cell_type": "code",
   "execution_count": 17,
   "metadata": {},
   "outputs": [
    {
     "name": "stdout",
     "output_type": "stream",
     "text": [
      "MSRP_miss 0.8888888888888888\n",
      "Cylinders_miss 0.11111111111111116\n",
      "FuelEconomy_miss 0.05555555555555558\n",
      "EngineType_miss 0.0\n",
      "Manufacturer_miss 0.0\n",
      "Id_miss 0.0\n",
      "Model_miss 0.0\n",
      "Displacement_miss 0.0"
     ]
    }
   ],
   "source": [
    "for k, v in sorted(\n",
    "    merc_out.agg(*[\n",
    "               (1 - (fn.count(c) / fn.count('*')))\n",
    "                    .alias(c + '_miss')\n",
    "               for c in merc_out.columns\n",
    "           ])\n",
    "        .collect()[0]\n",
    "        .asDict()\n",
    "        .items()\n",
    "    , key=lambda el: el[1]\n",
    "    , reverse=True\n",
    "):\n",
    "    print(k, v)"
   ]
  },
  {
   "cell_type": "code",
   "execution_count": 18,
   "metadata": {},
   "outputs": [
    {
     "name": "stdout",
     "output_type": "stream",
     "text": [
      "+-------------+------------------+--------------------+----------+------------+---------+-----------+\n",
      "|           Id|      Manufacturer|               Model|EngineType|Displacement|Cylinders|FuelEconomy|\n",
      "+-------------+------------------+--------------------+----------+------------+---------+-----------+\n",
      "|   8589934592|    General Motors|         SPARK ACTIV| Aspirated|         1.4|     null|         32|\n",
      "| 188978561024|     Mercedes-Benz|             CLS 550|     Turbo|         4.7|        8|         21|\n",
      "| 206158430208|Ford Motor Company|          FUSION AWD|     Turbo|         2.7|        6|         20|\n",
      "| 438086664192|               BMW|COOPER S HARDTOP ...|     Turbo|         2.0|        4|         26|\n",
      "| 523986010112|      Aston Martin|            Vanquish| Aspirated|         6.0|       12|         16|\n",
      "| 721554505728|        Volkswagen|                 GTI|     Turbo|         2.0|        4|       null|\n",
      "| 764504178688|               Kia|         Stinger RWD|     Turbo|         2.0|        4|         25|\n",
      "| 919123001344|               BMW|                330i|     Turbo|         2.0|     null|         27|\n",
      "| 944892805120|           Porsche|           Boxster S|     Turbo|         2.5|        4|         22|\n",
      "| 970662608896|        FCA US LLC|                 300| Aspirated|         3.6|        6|         23|\n",
      "|1030792151040|           Hyundai|             G80 AWD|     Turbo|         3.3|        6|         20|\n",
      "|1039382085632|               BMW|          440i Coupe|     Turbo|         3.0|        6|         23|\n",
      "|1116691496960|            Nissan|   Q50 AWD RED SPORT|     Turbo|         3.0|        6|         22|\n",
      "|1211180777472|               BMW|                X5 M|     Turbo|         4.4|        8|         18|\n",
      "|1331439861760|            Nissan|             Q70 AWD| Aspirated|         5.6|        8|         18|\n",
      "|1606317768704|           Porsche|911 Carrera 4S Ca...|     Turbo|         3.0|        6|         24|\n",
      "|1614907703296|            Toyota|     CAMRY HYBRID LE| Aspirated|         2.5|        4|         46|\n",
      "|1700807049216|                GE|  K1500 SUBURBAN 4WD| Aspirated|         5.3|        8|         18|\n",
      "+-------------+------------------+--------------------+----------+------------+---------+-----------+"
     ]
    }
   ],
   "source": [
    "no_MSRP = merc_out.select([col for col in new_id.columns if col != 'MSRP'])\n",
    "no_MSRP.show()"
   ]
  },
  {
   "cell_type": "markdown",
   "metadata": {},
   "source": [
    "### Sparse missing observations"
   ]
  },
  {
   "cell_type": "code",
   "execution_count": 19,
   "metadata": {},
   "outputs": [
    {
     "name": "stdout",
     "output_type": "stream",
     "text": [
      "{'FuelEconomy': 1.4957485048359973, 'Cylinders': 1.8353365984789105}"
     ]
    }
   ],
   "source": [
    "multipliers = (\n",
    "    no_MSRP\n",
    "    .agg(\n",
    "          fn.mean(\n",
    "              fn.col('FuelEconomy') / \n",
    "              (\n",
    "                  fn.col('Displacement') * fn.col('Cylinders')\n",
    "              )\n",
    "          ).alias('FuelEconomy')\n",
    "        , fn.mean(\n",
    "            fn.col('Cylinders') / \n",
    "            fn.col('Displacement')\n",
    "        ).alias('Cylinders')\n",
    "    )\n",
    ").toPandas().to_dict('records')[0]\n",
    "\n",
    "multipliers"
   ]
  },
  {
   "cell_type": "code",
   "execution_count": 20,
   "metadata": {},
   "outputs": [
    {
     "name": "stdout",
     "output_type": "stream",
     "text": [
      "+-------------+------------------+--------------------+----------+------------+---------+------------------+\n",
      "|           Id|      Manufacturer|               Model|EngineType|Displacement|Cylinders|       FuelEconomy|\n",
      "+-------------+------------------+--------------------+----------+------------+---------+------------------+\n",
      "|   8589934592|    General Motors|         SPARK ACTIV| Aspirated|         1.4|        2|    4.188095813552|\n",
      "| 188978561024|     Mercedes-Benz|             CLS 550|     Turbo|         4.7|        8|              21.0|\n",
      "| 206158430208|Ford Motor Company|          FUSION AWD|     Turbo|         2.7|        5|16.666666666666668|\n",
      "| 438086664192|               BMW|COOPER S HARDTOP ...|     Turbo|         2.0|        4|              26.0|\n",
      "| 523986010112|      Aston Martin|            Vanquish| Aspirated|         6.0|       12|              16.0|\n",
      "| 721554505728|        Volkswagen|                 GTI|     Turbo|         2.0|        4|    11.96598803872|\n",
      "| 764504178688|               Kia|         Stinger RWD|     Turbo|         2.0|        4|              25.0|\n",
      "| 919123001344|               BMW|                330i|     Turbo|         2.0|        3| 8.974491029040001|\n",
      "| 944892805120|           Porsche|           Boxster S|     Turbo|         2.5|        4|              22.0|\n",
      "| 970662608896|        FCA US LLC|                 300| Aspirated|         3.6|        6|              23.0|\n",
      "|1030792151040|           Hyundai|             G80 AWD|     Turbo|         3.3|        6|              20.0|\n",
      "|1039382085632|               BMW|          440i Coupe|     Turbo|         3.0|        6|23.000000000000004|\n",
      "|1116691496960|            Nissan|   Q50 AWD RED SPORT|     Turbo|         3.0|        6|21.999999999999996|\n",
      "|1211180777472|               BMW|                X5 M|     Turbo|         4.4|        8|              18.0|\n",
      "|1331439861760|            Nissan|             Q70 AWD| Aspirated|         5.6|        8|              18.0|\n",
      "|1606317768704|           Porsche|911 Carrera 4S Ca...|     Turbo|         3.0|        6|              24.0|\n",
      "|1614907703296|            Toyota|     CAMRY HYBRID LE| Aspirated|         2.5|        4|              46.0|\n",
      "|1700807049216|                GE|  K1500 SUBURBAN 4WD| Aspirated|         5.3|        8|              18.0|\n",
      "+-------------+------------------+--------------------+----------+------------+---------+------------------+"
     ]
    }
   ],
   "source": [
    "imputed = (\n",
    "    no_MSRP\n",
    "    .withColumn('FuelEconomy', fn.col('FuelEconomy')   / fn.col('Displacement') / fn.col('Cylinders'))\n",
    "    .withColumn('Cylinders',   fn.col('Cylinders')   / fn.col('Displacement'))\n",
    "    .fillna(multipliers)\n",
    "    .withColumn('Cylinders',   (fn.col('Cylinders')   * fn.col('Displacement')).cast('integer'))\n",
    "    .withColumn('FuelEconomy', fn.col('FuelEconomy') * fn.col('Displacement') * fn.col('Cylinders'))\n",
    ")\n",
    "\n",
    "imputed.show()"
   ]
  },
  {
   "cell_type": "markdown",
   "metadata": {},
   "source": [
    "# Handling outliers"
   ]
  },
  {
   "cell_type": "code",
   "execution_count": 21,
   "metadata": {},
   "outputs": [
    {
     "name": "stdout",
     "output_type": "stream",
     "text": [
      "+-------------+--------------+-----------+-------------+\n",
      "|           id|Displacement_o|Cylinders_o|FuelEconomy_o|\n",
      "+-------------+--------------+-----------+-------------+\n",
      "|   8589934592|         false|      false|         true|\n",
      "| 188978561024|         false|      false|        false|\n",
      "| 206158430208|         false|      false|        false|\n",
      "| 438086664192|         false|      false|        false|\n",
      "| 523986010112|         false|      false|        false|\n",
      "| 721554505728|         false|      false|        false|\n",
      "| 764504178688|         false|      false|        false|\n",
      "| 919123001344|         false|      false|        false|\n",
      "| 944892805120|         false|      false|        false|\n",
      "| 970662608896|         false|      false|        false|\n",
      "|1030792151040|         false|      false|        false|\n",
      "|1039382085632|         false|      false|        false|\n",
      "|1116691496960|         false|      false|        false|\n",
      "|1211180777472|         false|      false|        false|\n",
      "|1331439861760|         false|      false|        false|\n",
      "|1606317768704|         false|      false|        false|\n",
      "|1614907703296|         false|      false|         true|\n",
      "|1700807049216|         false|      false|        false|\n",
      "+-------------+--------------+-----------+-------------+"
     ]
    }
   ],
   "source": [
    "features = ['Displacement', 'Cylinders', 'FuelEconomy']\n",
    "quantiles = [0.25, 0.75]\n",
    "\n",
    "cut_off_points = []\n",
    "\n",
    "for feature in features:\n",
    "    quants = imputed.approxQuantile(feature, quantiles, 0.05)\n",
    "    \n",
    "    IQR = quants[1] - quants[0]\n",
    "    cut_off_points.append((feature, [\n",
    "        quants[0] - 1.5 * IQR,\n",
    "        quants[1] + 1.5 * IQR,\n",
    "    ]))\n",
    "    \n",
    "cut_off_points = dict(cut_off_points)\n",
    "\n",
    "outliers = imputed.select(*['id'] + [\n",
    "       (\n",
    "           (imputed[f] < cut_off_points[f][0]) |\n",
    "           (imputed[f] > cut_off_points[f][1])\n",
    "       ).alias(f + '_o') for f in features\n",
    "  ])\n",
    "outliers.show()"
   ]
  },
  {
   "cell_type": "code",
   "execution_count": 22,
   "metadata": {},
   "outputs": [
    {
     "name": "stdout",
     "output_type": "stream",
     "text": [
      "{   'Cylinders': [-2.0, 14.0],\n",
      "    'Displacement': [-1.6000000000000005, 8.0],\n",
      "    'FuelEconomy': [7.166666666666664, 32.50000000000001]}"
     ]
    }
   ],
   "source": [
    "import pprint\n",
    "\n",
    "pp = pprint.PrettyPrinter(indent=4)\n",
    "\n",
    "pp.pprint(cut_off_points)\n",
    "\n",
    "# for k,v in cut_off_points.items():\n",
    "#     print(k,v)"
   ]
  },
  {
   "cell_type": "code",
   "execution_count": 23,
   "metadata": {},
   "outputs": [
    {
     "name": "stdout",
     "output_type": "stream",
     "text": [
      "+-------------+--------------+---------------+--------------+\n",
      "|           Id|  Manufacturer|          Model|   FuelEconomy|\n",
      "+-------------+--------------+---------------+--------------+\n",
      "|   8589934592|General Motors|    SPARK ACTIV|4.188095813552|\n",
      "|1614907703296|        Toyota|CAMRY HYBRID LE|          46.0|\n",
      "+-------------+--------------+---------------+--------------+"
     ]
    }
   ],
   "source": [
    "with_outliers_flag = imputed.join(outliers, on='Id')\n",
    "\n",
    "(\n",
    "    with_outliers_flag\n",
    "    .filter('FuelEconomy_o')\n",
    "    .select('Id', 'Manufacturer', 'Model', 'FuelEconomy')\n",
    "    .show()\n",
    ")"
   ]
  },
  {
   "cell_type": "code",
   "execution_count": 24,
   "metadata": {
    "collapsed": true
   },
   "outputs": [],
   "source": [
    "no_outliers = (\n",
    "    with_outliers_flag\n",
    "    .filter('!FuelEconomy_o')\n",
    "    .select(imputed.columns)\n",
    ")"
   ]
  },
  {
   "cell_type": "markdown",
   "metadata": {},
   "source": [
    "# Exploring descriptive statistics"
   ]
  },
  {
   "cell_type": "code",
   "execution_count": 25,
   "metadata": {},
   "outputs": [
    {
     "name": "stdout",
     "output_type": "stream",
     "text": [
      "+-------+-----------------+-----------------+-----------------+\n",
      "|summary|     Displacement|        Cylinders|      FuelEconomy|\n",
      "+-------+-----------------+-----------------+-----------------+\n",
      "|  count|               16|               16|               16|\n",
      "|   mean|          3.44375|            6.125|19.60044660840167|\n",
      "| stddev|1.354975399530683|2.276693508870558|4.666647767366612|\n",
      "|    min|              2.0|                3|8.974491029040001|\n",
      "|    max|              6.0|               12|             26.0|\n",
      "+-------+-----------------+-----------------+-----------------+"
     ]
    }
   ],
   "source": [
    "descriptive_stats = no_outliers.describe(features)\n",
    "descriptive_stats.show()"
   ]
  },
  {
   "cell_type": "code",
   "execution_count": 26,
   "metadata": {},
   "outputs": [
    {
     "name": "stdout",
     "output_type": "stream",
     "text": [
      "+-------+--------------------+------------+-----+----------+-----------------+-----------------+-----------------+\n",
      "|summary|                  Id|Manufacturer|Model|EngineType|     Displacement|        Cylinders|      FuelEconomy|\n",
      "+-------+--------------------+------------+-----+----------+-----------------+-----------------+-----------------+\n",
      "|  count|                  16|          16|   16|        16|               16|               16|               16|\n",
      "|   mean|    9.19659872256E11|        null|300.0|      null|          3.44375|            6.125|19.60044660840167|\n",
      "| stddev|4.396778949583304E11|        null|  NaN|      null|1.354975399530683|2.276693508870558|4.666647767366612|\n",
      "|    min|        188978561024|Aston Martin|  300| Aspirated|              2.0|                3|8.974491029040001|\n",
      "|    max|       1700807049216|  Volkswagen| X5 M|     Turbo|              6.0|               12|             26.0|\n",
      "+-------+--------------------+------------+-----+----------+-----------------+-----------------+-----------------+"
     ]
    }
   ],
   "source": [
    "descriptive_stats_all = no_outliers.describe()\n",
    "descriptive_stats_all.show()"
   ]
  },
  {
   "cell_type": "code",
   "execution_count": 27,
   "metadata": {},
   "outputs": [
    {
     "name": "stdout",
     "output_type": "stream",
     "text": [
      "+---------+-----+------------------+------------------+------------------+-------------------+\n",
      "|Cylinders|Count|           MPG_avg|          Disp_avg|         MPG_stdev|         Disp_stdev|\n",
      "+---------+-----+------------------+------------------+------------------+-------------------+\n",
      "|        3|    1| 8.974491029040001|               2.0|               NaN|                NaN|\n",
      "|        4|    4|    21.24149700968|             2.125| 6.413009924983552|0.24999999999999994|\n",
      "|        5|    1|16.666666666666668|               2.7|               NaN|                NaN|\n",
      "|        6|    5|              22.4|3.1799999999999997|1.5165750888103104|0.26832815729997467|\n",
      "|        8|    4|             18.75|               5.0|               1.5| 0.5477225575051655|\n",
      "|       12|    1|              16.0|               6.0|               NaN|                NaN|\n",
      "+---------+-----+------------------+------------------+------------------+-------------------+"
     ]
    }
   ],
   "source": [
    "(\n",
    "    no_outliers\n",
    "    .select(features)\n",
    "    .groupBy('Cylinders')\n",
    "    .agg(*[\n",
    "          fn.count('*').alias('Count')\n",
    "        , fn.mean('FuelEconomy').alias('MPG_avg')\n",
    "        , fn.mean('Displacement').alias('Disp_avg')\n",
    "        , fn.stddev('FuelEconomy').alias('MPG_stdev')\n",
    "        , fn.stddev('Displacement').alias('Disp_stdev')\n",
    "    ])\n",
    "    .orderBy('Cylinders')\n",
    ").show()"
   ]
  },
  {
   "cell_type": "markdown",
   "metadata": {},
   "source": [
    "# Computing correlations"
   ]
  },
  {
   "cell_type": "code",
   "execution_count": 28,
   "metadata": {},
   "outputs": [
    {
     "name": "stdout",
     "output_type": "stream",
     "text": [
      "0.9381829964408113"
     ]
    }
   ],
   "source": [
    "(\n",
    "    no_outliers\n",
    "    .corr('Cylinders', 'Displacement')\n",
    ")"
   ]
  },
  {
   "cell_type": "code",
   "execution_count": 29,
   "metadata": {},
   "outputs": [
    {
     "name": "stdout",
     "output_type": "stream",
     "text": [
      "+------------+------------+------------------+--------------------+\n",
      "|      Column|Displacement|         Cylinders|         FuelEconomy|\n",
      "+------------+------------+------------------+--------------------+\n",
      "|Displacement|         1.0|0.9381829964408113|-0.10757908872489412|\n",
      "|   Cylinders|        null|               1.0|-0.04218546545131555|\n",
      "| FuelEconomy|        null|              null|                 1.0|\n",
      "+------------+------------+------------------+--------------------+"
     ]
    }
   ],
   "source": [
    "n_features = len(features)\n",
    "\n",
    "corr = []\n",
    "\n",
    "for i in range(0, n_features):\n",
    "    temp = [None] * i\n",
    "\n",
    "    for j in range(i, n_features):\n",
    "        temp.append(no_outliers.corr(features[i], features[j]))\n",
    "    corr.append([features[i]] + temp)\n",
    "\n",
    "correlations = spark.createDataFrame(corr, ['Column'] + features)\n",
    "\n",
    "correlations.show()"
   ]
  },
  {
   "cell_type": "markdown",
   "metadata": {},
   "source": [
    "# Drawing histograms"
   ]
  },
  {
   "cell_type": "code",
   "execution_count": 30,
   "metadata": {
    "collapsed": true
   },
   "outputs": [],
   "source": [
    "histogram_MPG = (\n",
    "    no_outliers\n",
    "    .select('FuelEconomy')\n",
    "    .rdd\n",
    "    .flatMap(lambda record: record)\n",
    "    .histogram(5)\n",
    ")"
   ]
  },
  {
   "cell_type": "code",
   "execution_count": 43,
   "metadata": {},
   "outputs": [
    {
     "name": "stdout",
     "output_type": "stream",
     "text": [
      "[8.974491029040001, 12.379592823232, 15.784694617424, 19.189796411616, 22.594898205808, 26.0]\n",
      "[2, 0, 5, 4, 5]\n",
      "([8.974491029040001, 12.379592823232, 15.784694617424, 19.189796411616, 22.594898205808, 26.0], [2, 0, 5, 4, 5])"
     ]
    }
   ],
   "source": [
    "for i in histogram_MPG:\n",
    "    print(i)\n",
    "    \n",
    "histogram_MPG"
   ]
  },
  {
   "cell_type": "code",
   "execution_count": 52,
   "metadata": {},
   "outputs": [
    {
     "name": "stdout",
     "output_type": "stream",
     "text": [
      "[8.97,12.38)\n",
      "[12.38,15.78)\n",
      "[15.78,19.19)\n",
      "[19.19,22.59)\n",
      "[22.59,26.0)"
     ]
    }
   ],
   "source": [
    "for i in range(len(histogram_MPG[0])-1):\n",
    "    print('[' + str(round(histogram_MPG[0][i],2))\n",
    "        + ',' + str(round(histogram_MPG[0][i+1],2))\n",
    "          + ')'\n",
    "         )"
   ]
  },
  {
   "cell_type": "code",
   "execution_count": 31,
   "metadata": {
    "collapsed": true
   },
   "outputs": [],
   "source": [
    "(\n",
    "    spark\n",
    "    .createDataFrame(\n",
    "        [(bins, counts) \n",
    "         for bins, counts \n",
    "         in zip(\n",
    "             histogram_MPG[0], \n",
    "             histogram_MPG[1]\n",
    "         )]\n",
    "        , ['bins', 'counts']\n",
    "    )\n",
    "    .registerTempTable('histogram_MPG')\n",
    ")"
   ]
  },
  {
   "cell_type": "code",
   "execution_count": 32,
   "metadata": {
    "collapsed": true
   },
   "outputs": [],
   "source": [
    "%%sql -o hist_MPG -q\n",
    "SELECT * FROM histogram_MPG"
   ]
  },
  {
   "cell_type": "code",
   "execution_count": 33,
   "metadata": {},
   "outputs": [
    {
     "data": {
      "text/plain": [
       "<matplotlib.text.Text at 0x1190c2a58>"
      ]
     },
     "execution_count": 33,
     "metadata": {},
     "output_type": "execute_result"
    },
    {
     "data": {
      "image/png": "[encoded data removed]",
      "text/plain": [
       "<matplotlib.figure.Figure at 0x1219d27b8>"
      ]
     },
     "metadata": {},
     "output_type": "display_data"
    }
   ],
   "source": [
    "%%local\n",
    "import matplotlib.pyplot as plt\n",
    "%matplotlib inline\n",
    "plt.style.use('ggplot')\n",
    "\n",
    "fig = plt.figure(figsize=(12,9))\n",
    "ax = fig.add_subplot(1, 1, 1)\n",
    "ax.bar(hist_MPG['bins'], hist_MPG['counts'], width=3)\n",
    "ax.set_title('Histogram of fuel economy')"
   ]
  },
  {
   "cell_type": "code",
   "execution_count": 60,
   "metadata": {},
   "outputs": [
    {
     "data": {
      "text/html": [
       "\n",
       "    <div class=\"bk-root\">\n",
       "        <a href=\"https://bokeh.pydata.org\" target=\"_blank\" class=\"bk-logo bk-logo-small bk-logo-notebook\"></a>\n",
       "        <span id=\"dcee38a3-7900-4e1c-95cb-18f26fe020e5\">Loading BokehJS ...</span>\n",
       "    </div>"
      ]
     },
     "metadata": {},
     "output_type": "display_data"
    },
    {
     "data": {
      "application/javascript": [
       "\n",
       "(function(root) {\n",
       "  function now() {\n",
       "    return new Date();\n",
       "  }\n",
       "\n",
       "  var force = true;\n",
       "\n",
       "  if (typeof (root._bokeh_onload_callbacks) === \"undefined\" || force === true) {\n",
       "    root._bokeh_onload_callbacks = [];\n",
       "    root._bokeh_is_loading = undefined;\n",
       "  }\n",
       "\n",
       "  var JS_MIME_TYPE = 'application/javascript';\n",
       "  var HTML_MIME_TYPE = 'text/html';\n",
       "  var EXEC_MIME_TYPE = 'application/vnd.bokehjs_exec.v0+json';\n",
       "  var CLASS_NAME = 'output_bokeh rendered_html';\n",
       "\n",
       "  /**\n",
       "   * Render data to the DOM node\n",
       "   */\n",
       "  function render(props, node) {\n",
       "    var script = document.createElement(\"script\");\n",
       "    node.appendChild(script);\n",
       "  }\n",
       "\n",
       "  /**\n",
       "   * Handle when an output is cleared or removed\n",
       "   */\n",
       "  function handleClearOutput(event, handle) {\n",
       "    var cell = handle.cell;\n",
       "\n",
       "    var id = cell.output_area._bokeh_element_id;\n",
       "    var server_id = cell.output_area._bokeh_server_id;\n",
       "    // Clean up Bokeh references\n",
       "    if (id !== undefined) {\n",
       "      Bokeh.index[id].model.document.clear();\n",
       "      delete Bokeh.index[id];\n",
       "    }\n",
       "\n",
       "    if (server_id !== undefined) {\n",
       "      // Clean up Bokeh references\n",
       "      var cmd = \"from bokeh.io.state import curstate; print(curstate().uuid_to_server['\" + server_id + \"'].get_sessions()[0].document.roots[0]._id)\";\n",
       "      cell.notebook.kernel.execute(cmd, {\n",
       "        iopub: {\n",
       "          output: function(msg) {\n",
       "            var element_id = msg.content.text.trim();\n",
       "            Bokeh.index[element_id].model.document.clear();\n",
       "            delete Bokeh.index[element_id];\n",
       "          }\n",
       "        }\n",
       "      });\n",
       "      // Destroy server and session\n",
       "      var cmd = \"import bokeh.io.notebook as ion; ion.destroy_server('\" + server_id + \"')\";\n",
       "      cell.notebook.kernel.execute(cmd);\n",
       "    }\n",
       "  }\n",
       "\n",
       "  /**\n",
       "   * Handle when a new output is added\n",
       "   */\n",
       "  function handleAddOutput(event, handle) {\n",
       "    var output_area = handle.output_area;\n",
       "    var output = handle.output;\n",
       "\n",
       "    // limit handleAddOutput to display_data with EXEC_MIME_TYPE content only\n",
       "    if ((output.output_type != \"display_data\") || (!output.data.hasOwnProperty(EXEC_MIME_TYPE))) {\n",
       "      return\n",
       "    }\n",
       "\n",
       "    var toinsert = output_area.element.find(\".\" + CLASS_NAME.split(' ')[0]);\n",
       "\n",
       "    if (output.metadata[EXEC_MIME_TYPE][\"id\"] !== undefined) {\n",
       "      toinsert[0].firstChild.textContent = output.data[JS_MIME_TYPE];\n",
       "      // store reference to embed id on output_area\n",
       "      output_area._bokeh_element_id = output.metadata[EXEC_MIME_TYPE][\"id\"];\n",
       "    }\n",
       "    if (output.metadata[EXEC_MIME_TYPE][\"server_id\"] !== undefined) {\n",
       "      var bk_div = document.createElement(\"div\");\n",
       "      bk_div.innerHTML = output.data[HTML_MIME_TYPE];\n",
       "      var script_attrs = bk_div.children[0].attributes;\n",
       "      for (var i = 0; i < script_attrs.length; i++) {\n",
       "        toinsert[0].firstChild.setAttribute(script_attrs[i].name, script_attrs[i].value);\n",
       "      }\n",
       "      // store reference to server id on output_area\n",
       "      output_area._bokeh_server_id = output.metadata[EXEC_MIME_TYPE][\"server_id\"];\n",
       "    }\n",
       "  }\n",
       "\n",
       "  function register_renderer(events, OutputArea) {\n",
       "\n",
       "    function append_mime(data, metadata, element) {\n",
       "      // create a DOM node to render to\n",
       "      var toinsert = this.create_output_subarea(\n",
       "        metadata,\n",
       "        CLASS_NAME,\n",
       "        EXEC_MIME_TYPE\n",
       "      );\n",
       "      this.keyboard_manager.register_events(toinsert);\n",
       "      // Render to node\n",
       "      var props = {data: data, metadata: metadata[EXEC_MIME_TYPE]};\n",
       "      render(props, toinsert[0]);\n",
       "      element.append(toinsert);\n",
       "      return toinsert\n",
       "    }\n",
       "\n",
       "    /* Handle when an output is cleared or removed */\n",
       "    events.on('clear_output.CodeCell', handleClearOutput);\n",
       "    events.on('delete.Cell', handleClearOutput);\n",
       "\n",
       "    /* Handle when a new output is added */\n",
       "    events.on('output_added.OutputArea', handleAddOutput);\n",
       "\n",
       "    /**\n",
       "     * Register the mime type and append_mime function with output_area\n",
       "     */\n",
       "    OutputArea.prototype.register_mime_type(EXEC_MIME_TYPE, append_mime, {\n",
       "      /* Is output safe? */\n",
       "      safe: true,\n",
       "      /* Index of renderer in `output_area.display_order` */\n",
       "      index: 0\n",
       "    });\n",
       "  }\n",
       "\n",
       "  // register the mime type if in Jupyter Notebook environment and previously unregistered\n",
       "  if (root.Jupyter !== undefined) {\n",
       "    var events = require('base/js/events');\n",
       "    var OutputArea = require('notebook/js/outputarea').OutputArea;\n",
       "\n",
       "    if (OutputArea.prototype.mime_types().indexOf(EXEC_MIME_TYPE) == -1) {\n",
       "      register_renderer(events, OutputArea);\n",
       "    }\n",
       "  }\n",
       "\n",
       "  \n",
       "  if (typeof (root._bokeh_timeout) === \"undefined\" || force === true) {\n",
       "    root._bokeh_timeout = Date.now() + 5000;\n",
       "    root._bokeh_failed_load = false;\n",
       "  }\n",
       "\n",
       "  var NB_LOAD_WARNING = {'data': {'text/html':\n",
       "     \"<div style='background-color: #fdd'>\\n\"+\n",
       "     \"<p>\\n\"+\n",
       "     \"BokehJS does not appear to have successfully loaded. If loading BokehJS from CDN, this \\n\"+\n",
       "     \"may be due to a slow or bad network connection. Possible fixes:\\n\"+\n",
       "     \"</p>\\n\"+\n",
       "     \"<ul>\\n\"+\n",
       "     \"<li>re-rerun `output_notebook()` to attempt to load from CDN again, or</li>\\n\"+\n",
       "     \"<li>use INLINE resources instead, as so:</li>\\n\"+\n",
       "     \"</ul>\\n\"+\n",
       "     \"<code>\\n\"+\n",
       "     \"from bokeh.resources import INLINE\\n\"+\n",
       "     \"output_notebook(resources=INLINE)\\n\"+\n",
       "     \"</code>\\n\"+\n",
       "     \"</div>\"}};\n",
       "\n",
       "  function display_loaded() {\n",
       "    var el = document.getElementById(\"dcee38a3-7900-4e1c-95cb-18f26fe020e5\");\n",
       "    if (el != null) {\n",
       "      el.textContent = \"BokehJS is loading...\";\n",
       "    }\n",
       "    if (root.Bokeh !== undefined) {\n",
       "      if (el != null) {\n",
       "        el.textContent = \"BokehJS \" + root.Bokeh.version + \" successfully loaded.\";\n",
       "      }\n",
       "    } else if (Date.now() < root._bokeh_timeout) {\n",
       "      setTimeout(display_loaded, 100)\n",
       "    }\n",
       "  }\n",
       "\n",
       "\n",
       "  function run_callbacks() {\n",
       "    try {\n",
       "      root._bokeh_onload_callbacks.forEach(function(callback) { callback() });\n",
       "    }\n",
       "    finally {\n",
       "      delete root._bokeh_onload_callbacks\n",
       "    }\n",
       "    console.info(\"Bokeh: all callbacks have finished\");\n",
       "  }\n",
       "\n",
       "  function load_libs(js_urls, callback) {\n",
       "    root._bokeh_onload_callbacks.push(callback);\n",
       "    if (root._bokeh_is_loading > 0) {\n",
       "      console.log(\"Bokeh: BokehJS is being loaded, scheduling callback at\", now());\n",
       "      return null;\n",
       "    }\n",
       "    if (js_urls == null || js_urls.length === 0) {\n",
       "      run_callbacks();\n",
       "      return null;\n",
       "    }\n",
       "    console.log(\"Bokeh: BokehJS not loaded, scheduling load and callback at\", now());\n",
       "    root._bokeh_is_loading = js_urls.length;\n",
       "    for (var i = 0; i < js_urls.length; i++) {\n",
       "      var url = js_urls[i];\n",
       "      var s = document.createElement('script');\n",
       "      s.src = url;\n",
       "      s.async = false;\n",
       "      s.onreadystatechange = s.onload = function() {\n",
       "        root._bokeh_is_loading--;\n",
       "        if (root._bokeh_is_loading === 0) {\n",
       "          console.log(\"Bokeh: all BokehJS libraries loaded\");\n",
       "          run_callbacks()\n",
       "        }\n",
       "      };\n",
       "      s.onerror = function() {\n",
       "        console.warn(\"failed to load library \" + url);\n",
       "      };\n",
       "      console.log(\"Bokeh: injecting script tag for BokehJS library: \", url);\n",
       "      document.getElementsByTagName(\"head\")[0].appendChild(s);\n",
       "    }\n",
       "  };var element = document.getElementById(\"dcee38a3-7900-4e1c-95cb-18f26fe020e5\");\n",
       "  if (element == null) {\n",
       "    console.log(\"Bokeh: ERROR: autoload.js configured with elementid 'dcee38a3-7900-4e1c-95cb-18f26fe020e5' but no matching script tag was found. \")\n",
       "    return false;\n",
       "  }\n",
       "\n",
       "  var js_urls = [\"https://cdn.pydata.org/bokeh/release/bokeh-0.12.13.min.js\", \"https://cdn.pydata.org/bokeh/release/bokeh-widgets-0.12.13.min.js\", \"https://cdn.pydata.org/bokeh/release/bokeh-tables-0.12.13.min.js\", \"https://cdn.pydata.org/bokeh/release/bokeh-gl-0.12.13.min.js\"];\n",
       "\n",
       "  var inline_js = [\n",
       "    function(Bokeh) {\n",
       "      Bokeh.set_log_level(\"info\");\n",
       "    },\n",
       "    \n",
       "    function(Bokeh) {\n",
       "      \n",
       "    },\n",
       "    function(Bokeh) {\n",
       "      console.log(\"Bokeh: injecting CSS: https://cdn.pydata.org/bokeh/release/bokeh-0.12.13.min.css\");\n",
       "      Bokeh.embed.inject_css(\"https://cdn.pydata.org/bokeh/release/bokeh-0.12.13.min.css\");\n",
       "      console.log(\"Bokeh: injecting CSS: https://cdn.pydata.org/bokeh/release/bokeh-widgets-0.12.13.min.css\");\n",
       "      Bokeh.embed.inject_css(\"https://cdn.pydata.org/bokeh/release/bokeh-widgets-0.12.13.min.css\");\n",
       "      console.log(\"Bokeh: injecting CSS: https://cdn.pydata.org/bokeh/release/bokeh-tables-0.12.13.min.css\");\n",
       "      Bokeh.embed.inject_css(\"https://cdn.pydata.org/bokeh/release/bokeh-tables-0.12.13.min.css\");\n",
       "    }\n",
       "  ];\n",
       "\n",
       "  function run_inline_js() {\n",
       "    \n",
       "    if ((root.Bokeh !== undefined) || (force === true)) {\n",
       "      for (var i = 0; i < inline_js.length; i++) {\n",
       "        inline_js[i].call(root, root.Bokeh);\n",
       "      }if (force === true) {\n",
       "        display_loaded();\n",
       "      }} else if (Date.now() < root._bokeh_timeout) {\n",
       "      setTimeout(run_inline_js, 100);\n",
       "    } else if (!root._bokeh_failed_load) {\n",
       "      console.log(\"Bokeh: BokehJS failed to load within specified timeout.\");\n",
       "      root._bokeh_failed_load = true;\n",
       "    } else if (force !== true) {\n",
       "      var cell = $(document.getElementById(\"dcee38a3-7900-4e1c-95cb-18f26fe020e5\")).parents('.cell').data().cell;\n",
       "      cell.output_area.append_execute_result(NB_LOAD_WARNING)\n",
       "    }\n",
       "\n",
       "  }\n",
       "\n",
       "  if (root._bokeh_is_loading === 0) {\n",
       "    console.log(\"Bokeh: BokehJS loaded, going straight to plotting\");\n",
       "    run_inline_js();\n",
       "  } else {\n",
       "    load_libs(js_urls, function() {\n",
       "      console.log(\"Bokeh: BokehJS plotting callback run at\", now());\n",
       "      run_inline_js();\n",
       "    });\n",
       "  }\n",
       "}(window));"
      ],
      "application/vnd.bokehjs_load.v0+json": "\n(function(root) {\n  function now() {\n    return new Date();\n  }\n\n  var force = true;\n\n  if (typeof (root._bokeh_onload_callbacks) === \"undefined\" || force === true) {\n    root._bokeh_onload_callbacks = [];\n    root._bokeh_is_loading = undefined;\n  }\n\n  \n\n  \n  if (typeof (root._bokeh_timeout) === \"undefined\" || force === true) {\n    root._bokeh_timeout = Date.now() + 5000;\n    root._bokeh_failed_load = false;\n  }\n\n  var NB_LOAD_WARNING = {'data': {'text/html':\n     \"<div style='background-color: #fdd'>\\n\"+\n     \"<p>\\n\"+\n     \"BokehJS does not appear to have successfully loaded. If loading BokehJS from CDN, this \\n\"+\n     \"may be due to a slow or bad network connection. Possible fixes:\\n\"+\n     \"</p>\\n\"+\n     \"<ul>\\n\"+\n     \"<li>re-rerun `output_notebook()` to attempt to load from CDN again, or</li>\\n\"+\n     \"<li>use INLINE resources instead, as so:</li>\\n\"+\n     \"</ul>\\n\"+\n     \"<code>\\n\"+\n     \"from bokeh.resources import INLINE\\n\"+\n     \"output_notebook(resources=INLINE)\\n\"+\n     \"</code>\\n\"+\n     \"</div>\"}};\n\n  function display_loaded() {\n    var el = document.getElementById(\"dcee38a3-7900-4e1c-95cb-18f26fe020e5\");\n    if (el != null) {\n      el.textContent = \"BokehJS is loading...\";\n    }\n    if (root.Bokeh !== undefined) {\n      if (el != null) {\n        el.textContent = \"BokehJS \" + root.Bokeh.version + \" successfully loaded.\";\n      }\n    } else if (Date.now() < root._bokeh_timeout) {\n      setTimeout(display_loaded, 100)\n    }\n  }\n\n\n  function run_callbacks() {\n    try {\n      root._bokeh_onload_callbacks.forEach(function(callback) { callback() });\n    }\n    finally {\n      delete root._bokeh_onload_callbacks\n    }\n    console.info(\"Bokeh: all callbacks have finished\");\n  }\n\n  function load_libs(js_urls, callback) {\n    root._bokeh_onload_callbacks.push(callback);\n    if (root._bokeh_is_loading > 0) {\n      console.log(\"Bokeh: BokehJS is being loaded, scheduling callback at\", now());\n      return null;\n    }\n    if (js_urls == null || js_urls.length === 0) {\n      run_callbacks();\n      return null;\n    }\n    console.log(\"Bokeh: BokehJS not loaded, scheduling load and callback at\", now());\n    root._bokeh_is_loading = js_urls.length;\n    for (var i = 0; i < js_urls.length; i++) {\n      var url = js_urls[i];\n      var s = document.createElement('script');\n      s.src = url;\n      s.async = false;\n      s.onreadystatechange = s.onload = function() {\n        root._bokeh_is_loading--;\n        if (root._bokeh_is_loading === 0) {\n          console.log(\"Bokeh: all BokehJS libraries loaded\");\n          run_callbacks()\n        }\n      };\n      s.onerror = function() {\n        console.warn(\"failed to load library \" + url);\n      };\n      console.log(\"Bokeh: injecting script tag for BokehJS library: \", url);\n      document.getElementsByTagName(\"head\")[0].appendChild(s);\n    }\n  };var element = document.getElementById(\"dcee38a3-7900-4e1c-95cb-18f26fe020e5\");\n  if (element == null) {\n    console.log(\"Bokeh: ERROR: autoload.js configured with elementid 'dcee38a3-7900-4e1c-95cb-18f26fe020e5' but no matching script tag was found. \")\n    return false;\n  }\n\n  var js_urls = [\"https://cdn.pydata.org/bokeh/release/bokeh-0.12.13.min.js\", \"https://cdn.pydata.org/bokeh/release/bokeh-widgets-0.12.13.min.js\", \"https://cdn.pydata.org/bokeh/release/bokeh-tables-0.12.13.min.js\", \"https://cdn.pydata.org/bokeh/release/bokeh-gl-0.12.13.min.js\"];\n\n  var inline_js = [\n    function(Bokeh) {\n      Bokeh.set_log_level(\"info\");\n    },\n    \n    function(Bokeh) {\n      \n    },\n    function(Bokeh) {\n      console.log(\"Bokeh: injecting CSS: https://cdn.pydata.org/bokeh/release/bokeh-0.12.13.min.css\");\n      Bokeh.embed.inject_css(\"https://cdn.pydata.org/bokeh/release/bokeh-0.12.13.min.css\");\n      console.log(\"Bokeh: injecting CSS: https://cdn.pydata.org/bokeh/release/bokeh-widgets-0.12.13.min.css\");\n      Bokeh.embed.inject_css(\"https://cdn.pydata.org/bokeh/release/bokeh-widgets-0.12.13.min.css\");\n      console.log(\"Bokeh: injecting CSS: https://cdn.pydata.org/bokeh/release/bokeh-tables-0.12.13.min.css\");\n      Bokeh.embed.inject_css(\"https://cdn.pydata.org/bokeh/release/bokeh-tables-0.12.13.min.css\");\n    }\n  ];\n\n  function run_inline_js() {\n    \n    if ((root.Bokeh !== undefined) || (force === true)) {\n      for (var i = 0; i < inline_js.length; i++) {\n        inline_js[i].call(root, root.Bokeh);\n      }if (force === true) {\n        display_loaded();\n      }} else if (Date.now() < root._bokeh_timeout) {\n      setTimeout(run_inline_js, 100);\n    } else if (!root._bokeh_failed_load) {\n      console.log(\"Bokeh: BokehJS failed to load within specified timeout.\");\n      root._bokeh_failed_load = true;\n    } else if (force !== true) {\n      var cell = $(document.getElementById(\"dcee38a3-7900-4e1c-95cb-18f26fe020e5\")).parents('.cell').data().cell;\n      cell.output_area.append_execute_result(NB_LOAD_WARNING)\n    }\n\n  }\n\n  if (root._bokeh_is_loading === 0) {\n    console.log(\"Bokeh: BokehJS loaded, going straight to plotting\");\n    run_inline_js();\n  } else {\n    load_libs(js_urls, function() {\n      console.log(\"Bokeh: BokehJS plotting callback run at\", now());\n      run_inline_js();\n    });\n  }\n}(window));"
     },
     "metadata": {},
     "output_type": "display_data"
    },
    {
     "data": {
      "text/html": [
       "\n",
       "<div class=\"bk-root\">\n",
       "    <div class=\"bk-plotdiv\" id=\"8709d127-5cd7-4d28-9650-e75e38645600\"></div>\n",
       "</div>"
      ]
     },
     "metadata": {},
     "output_type": "display_data"
    },
    {
     "data": {
      "application/javascript": [
       "(function(root) {\n",
       "  function embed_document(root) {\n",
       "    \n",
       "  var docs_json = {\"1907b78b-e3ae-4725-b615-9019199a79d5\":{\"roots\":{\"references\":[{\"attributes\":{},\"id\":\"8010ae47-5465-4e60-ac76-36bf25ad6537\",\"type\":\"BasicTicker\"},{\"attributes\":{},\"id\":\"c3127ba7-6552-408e-9f30-24b13c417925\",\"type\":\"HelpTool\"},{\"attributes\":{\"fill_color\":{\"value\":\"#1f77b4\"},\"line_color\":{\"value\":\"#1f77b4\"},\"top\":{\"field\":\"top\"},\"width\":{\"value\":0.9},\"x\":{\"field\":\"x\"}},\"id\":\"cbf2b188-b65b-46a4-b72f-f962b710877a\",\"type\":\"VBar\"},{\"attributes\":{\"callback\":null,\"factors\":[\"8.97\",\"12.38\",\"15.78\",\"19.19\",\"22.59\"]},\"id\":\"1222798b-9c6d-4512-9507-0741f49cc615\",\"type\":\"FactorRange\"},{\"attributes\":{\"formatter\":{\"id\":\"5e93597e-391a-4e7d-9b1a-9557e739d71a\",\"type\":\"BasicTickFormatter\"},\"plot\":{\"id\":\"1692f9bd-3e9d-4963-b55a-aad7a0b53e80\",\"subtype\":\"Figure\",\"type\":\"Plot\"},\"ticker\":{\"id\":\"8010ae47-5465-4e60-ac76-36bf25ad6537\",\"type\":\"BasicTicker\"}},\"id\":\"3af695c6-d4d2-4f4d-942b-fa0e21d45888\",\"type\":\"LinearAxis\"},{\"attributes\":{},\"id\":\"fbd1a51a-2af7-48a3-a1a8-dbf60a5f2859\",\"type\":\"CategoricalScale\"},{\"attributes\":{},\"id\":\"71a2eacf-5846-44a6-adcc-a5c246a1b3fc\",\"type\":\"SaveTool\"},{\"attributes\":{},\"id\":\"1d88d777-e561-4c35-ac29-ed515ef381cb\",\"type\":\"WheelZoomTool\"},{\"attributes\":{},\"id\":\"5e93597e-391a-4e7d-9b1a-9557e739d71a\",\"type\":\"BasicTickFormatter\"},{\"attributes\":{},\"id\":\"cb8dcd80-9c93-4503-a085-580f10e1c3a3\",\"type\":\"ResetTool\"},{\"attributes\":{\"active_drag\":\"auto\",\"active_inspect\":\"auto\",\"active_scroll\":\"auto\",\"active_tap\":\"auto\",\"tools\":[{\"id\":\"4207c75c-f37c-40b4-97ee-6ff86e82232b\",\"type\":\"PanTool\"},{\"id\":\"1d88d777-e561-4c35-ac29-ed515ef381cb\",\"type\":\"WheelZoomTool\"},{\"id\":\"f1d28947-1785-4a4f-8882-660c5328043a\",\"type\":\"BoxZoomTool\"},{\"id\":\"71a2eacf-5846-44a6-adcc-a5c246a1b3fc\",\"type\":\"SaveTool\"},{\"id\":\"cb8dcd80-9c93-4503-a085-580f10e1c3a3\",\"type\":\"ResetTool\"},{\"id\":\"c3127ba7-6552-408e-9f30-24b13c417925\",\"type\":\"HelpTool\"}]},\"id\":\"2020ccba-9afe-45c0-9430-590e5c090630\",\"type\":\"Toolbar\"},{\"attributes\":{\"formatter\":{\"id\":\"c775b339-a8c2-4548-8cfa-ac935a9eece7\",\"type\":\"CategoricalTickFormatter\"},\"plot\":{\"id\":\"1692f9bd-3e9d-4963-b55a-aad7a0b53e80\",\"subtype\":\"Figure\",\"type\":\"Plot\"},\"ticker\":{\"id\":\"c2955850-b1cd-4114-9e05-80bfa5774b56\",\"type\":\"CategoricalTicker\"}},\"id\":\"a6beab5a-888e-47fe-bbd6-3f4111afcf46\",\"type\":\"CategoricalAxis\"},{\"attributes\":{\"below\":[{\"id\":\"a6beab5a-888e-47fe-bbd6-3f4111afcf46\",\"type\":\"CategoricalAxis\"}],\"left\":[{\"id\":\"3af695c6-d4d2-4f4d-942b-fa0e21d45888\",\"type\":\"LinearAxis\"}],\"plot_height\":350,\"renderers\":[{\"id\":\"a6beab5a-888e-47fe-bbd6-3f4111afcf46\",\"type\":\"CategoricalAxis\"},{\"id\":\"ea104387-41e6-4ea0-89fd-5f76ef10b24c\",\"type\":\"Grid\"},{\"id\":\"3af695c6-d4d2-4f4d-942b-fa0e21d45888\",\"type\":\"LinearAxis\"},{\"id\":\"248f27ed-dfaa-456e-afcb-f0816fc7797f\",\"type\":\"Grid\"},{\"id\":\"29766f74-b62c-493e-85be-ba0f3c3045d9\",\"type\":\"BoxAnnotation\"},{\"id\":\"468744cc-a1d0-44cf-be3c-cd86f3410662\",\"type\":\"GlyphRenderer\"}],\"title\":{\"id\":\"26a95273-cf42-403e-bd83-d8332c7ae6f2\",\"type\":\"Title\"},\"toolbar\":{\"id\":\"2020ccba-9afe-45c0-9430-590e5c090630\",\"type\":\"Toolbar\"},\"x_range\":{\"id\":\"1222798b-9c6d-4512-9507-0741f49cc615\",\"type\":\"FactorRange\"},\"x_scale\":{\"id\":\"fbd1a51a-2af7-48a3-a1a8-dbf60a5f2859\",\"type\":\"CategoricalScale\"},\"y_range\":{\"id\":\"5f851b81-9ac1-44df-9ecc-45c10171ed8d\",\"type\":\"DataRange1d\"},\"y_scale\":{\"id\":\"91a9ba6f-b357-4a3b-b4fd-0ec7aec0bf63\",\"type\":\"LinearScale\"}},\"id\":\"1692f9bd-3e9d-4963-b55a-aad7a0b53e80\",\"subtype\":\"Figure\",\"type\":\"Plot\"},{\"attributes\":{\"plot\":{\"id\":\"1692f9bd-3e9d-4963-b55a-aad7a0b53e80\",\"subtype\":\"Figure\",\"type\":\"Plot\"},\"ticker\":{\"id\":\"c2955850-b1cd-4114-9e05-80bfa5774b56\",\"type\":\"CategoricalTicker\"}},\"id\":\"ea104387-41e6-4ea0-89fd-5f76ef10b24c\",\"type\":\"Grid\"},{\"attributes\":{\"dimension\":1,\"plot\":{\"id\":\"1692f9bd-3e9d-4963-b55a-aad7a0b53e80\",\"subtype\":\"Figure\",\"type\":\"Plot\"},\"ticker\":{\"id\":\"8010ae47-5465-4e60-ac76-36bf25ad6537\",\"type\":\"BasicTicker\"}},\"id\":\"248f27ed-dfaa-456e-afcb-f0816fc7797f\",\"type\":\"Grid\"},{\"attributes\":{\"overlay\":{\"id\":\"29766f74-b62c-493e-85be-ba0f3c3045d9\",\"type\":\"BoxAnnotation\"}},\"id\":\"f1d28947-1785-4a4f-8882-660c5328043a\",\"type\":\"BoxZoomTool\"},{\"attributes\":{\"callback\":null},\"id\":\"5f851b81-9ac1-44df-9ecc-45c10171ed8d\",\"type\":\"DataRange1d\"},{\"attributes\":{\"callback\":null,\"column_names\":[\"x\",\"top\"],\"data\":{\"top\":[2,0,5,4,5],\"x\":[\"8.97\",\"12.38\",\"15.78\",\"19.19\",\"22.59\"]}},\"id\":\"de3637d4-60a9-4418-ac16-39038dd664f0\",\"type\":\"ColumnDataSource\"},{\"attributes\":{},\"id\":\"c775b339-a8c2-4548-8cfa-ac935a9eece7\",\"type\":\"CategoricalTickFormatter\"},{\"attributes\":{},\"id\":\"4207c75c-f37c-40b4-97ee-6ff86e82232b\",\"type\":\"PanTool\"},{\"attributes\":{\"bottom_units\":\"screen\",\"fill_alpha\":{\"value\":0.5},\"fill_color\":{\"value\":\"lightgrey\"},\"left_units\":\"screen\",\"level\":\"overlay\",\"line_alpha\":{\"value\":1.0},\"line_color\":{\"value\":\"black\"},\"line_dash\":[4,4],\"line_width\":{\"value\":2},\"plot\":null,\"render_mode\":\"css\",\"right_units\":\"screen\",\"top_units\":\"screen\"},\"id\":\"29766f74-b62c-493e-85be-ba0f3c3045d9\",\"type\":\"BoxAnnotation\"},{\"attributes\":{\"plot\":null,\"text\":\"Histogram of fuel economy\"},\"id\":\"26a95273-cf42-403e-bd83-d8332c7ae6f2\",\"type\":\"Title\"},{\"attributes\":{},\"id\":\"91a9ba6f-b357-4a3b-b4fd-0ec7aec0bf63\",\"type\":\"LinearScale\"},{\"attributes\":{\"fill_alpha\":{\"value\":0.1},\"fill_color\":{\"value\":\"#1f77b4\"},\"line_alpha\":{\"value\":0.1},\"line_color\":{\"value\":\"#1f77b4\"},\"top\":{\"field\":\"top\"},\"width\":{\"value\":0.9},\"x\":{\"field\":\"x\"}},\"id\":\"83da30cf-66af-48c0-b497-98bbbcd06f8e\",\"type\":\"VBar\"},{\"attributes\":{},\"id\":\"c2955850-b1cd-4114-9e05-80bfa5774b56\",\"type\":\"CategoricalTicker\"},{\"attributes\":{\"data_source\":{\"id\":\"de3637d4-60a9-4418-ac16-39038dd664f0\",\"type\":\"ColumnDataSource\"},\"glyph\":{\"id\":\"cbf2b188-b65b-46a4-b72f-f962b710877a\",\"type\":\"VBar\"},\"hover_glyph\":null,\"muted_glyph\":null,\"nonselection_glyph\":{\"id\":\"83da30cf-66af-48c0-b497-98bbbcd06f8e\",\"type\":\"VBar\"},\"selection_glyph\":null,\"view\":{\"id\":\"53848df6-6c3a-414c-9cc7-136afc392713\",\"type\":\"CDSView\"}},\"id\":\"468744cc-a1d0-44cf-be3c-cd86f3410662\",\"type\":\"GlyphRenderer\"},{\"attributes\":{\"source\":{\"id\":\"de3637d4-60a9-4418-ac16-39038dd664f0\",\"type\":\"ColumnDataSource\"}},\"id\":\"53848df6-6c3a-414c-9cc7-136afc392713\",\"type\":\"CDSView\"}],\"root_ids\":[\"1692f9bd-3e9d-4963-b55a-aad7a0b53e80\"]},\"title\":\"Bokeh Application\",\"version\":\"0.12.13\"}};\n",
       "  var render_items = [{\"docid\":\"1907b78b-e3ae-4725-b615-9019199a79d5\",\"elementid\":\"8709d127-5cd7-4d28-9650-e75e38645600\",\"modelid\":\"1692f9bd-3e9d-4963-b55a-aad7a0b53e80\"}];\n",
       "  root.Bokeh.embed.embed_items_notebook(docs_json, render_items);\n",
       "\n",
       "  }\n",
       "  if (root.Bokeh !== undefined) {\n",
       "    embed_document(root);\n",
       "  } else {\n",
       "    var attempts = 0;\n",
       "    var timer = setInterval(function(root) {\n",
       "      if (root.Bokeh !== undefined) {\n",
       "        embed_document(root);\n",
       "        clearInterval(timer);\n",
       "      }\n",
       "      attempts++;\n",
       "      if (attempts > 100) {\n",
       "        console.log(\"Bokeh: ERROR: Unable to run BokehJS code because BokehJS library is missing\")\n",
       "        clearInterval(timer);\n",
       "      }\n",
       "    }, 10, root)\n",
       "  }\n",
       "})(window);"
      ],
      "application/vnd.bokehjs_exec.v0+json": ""
     },
     "metadata": {
      "application/vnd.bokehjs_exec.v0+json": {
       "id": "1692f9bd-3e9d-4963-b55a-aad7a0b53e80"
      }
     },
     "output_type": "display_data"
    },
    {
     "ename": "RuntimeError",
     "evalue": "To use bokeh.io.export_png you need selenium (\"conda install -c bokeh selenium\" or \"pip install selenium\")",
     "output_type": "error",
     "traceback": [
      "\u001b[0;31m---------------------------------------------------------------------------\u001b[0m",
      "\u001b[0;31mImportError\u001b[0m                               Traceback (most recent call last)",
      "\u001b[0;32m/Users/drabast/anaconda/lib/python3.5/site-packages/bokeh/util/dependencies.py\u001b[0m in \u001b[0;36mimport_required\u001b[0;34m(mod_name, error_msg)\u001b[0m\n\u001b[1;32m     49\u001b[0m     \u001b[0;32mtry\u001b[0m\u001b[0;34m:\u001b[0m\u001b[0;34m\u001b[0m\u001b[0m\n\u001b[0;32m---> 50\u001b[0;31m         \u001b[0;32mreturn\u001b[0m \u001b[0mimport_module\u001b[0m\u001b[0;34m(\u001b[0m\u001b[0mmod_name\u001b[0m\u001b[0;34m)\u001b[0m\u001b[0;34m\u001b[0m\u001b[0m\n\u001b[0m\u001b[1;32m     51\u001b[0m     \u001b[0;32mexcept\u001b[0m \u001b[0mImportError\u001b[0m\u001b[0;34m:\u001b[0m\u001b[0;34m\u001b[0m\u001b[0m\n",
      "\u001b[0;32m/Users/drabast/anaconda/lib/python3.5/importlib/__init__.py\u001b[0m in \u001b[0;36mimport_module\u001b[0;34m(name, package)\u001b[0m\n\u001b[1;32m    125\u001b[0m             \u001b[0mlevel\u001b[0m \u001b[0;34m+=\u001b[0m \u001b[0;36m1\u001b[0m\u001b[0;34m\u001b[0m\u001b[0m\n\u001b[0;32m--> 126\u001b[0;31m     \u001b[0;32mreturn\u001b[0m \u001b[0m_bootstrap\u001b[0m\u001b[0;34m.\u001b[0m\u001b[0m_gcd_import\u001b[0m\u001b[0;34m(\u001b[0m\u001b[0mname\u001b[0m\u001b[0;34m[\u001b[0m\u001b[0mlevel\u001b[0m\u001b[0;34m:\u001b[0m\u001b[0;34m]\u001b[0m\u001b[0;34m,\u001b[0m \u001b[0mpackage\u001b[0m\u001b[0;34m,\u001b[0m \u001b[0mlevel\u001b[0m\u001b[0;34m)\u001b[0m\u001b[0;34m\u001b[0m\u001b[0m\n\u001b[0m\u001b[1;32m    127\u001b[0m \u001b[0;34m\u001b[0m\u001b[0m\n",
      "\u001b[0;32m/Users/drabast/anaconda/lib/python3.5/importlib/_bootstrap.py\u001b[0m in \u001b[0;36m_gcd_import\u001b[0;34m(name, package, level)\u001b[0m\n",
      "\u001b[0;32m/Users/drabast/anaconda/lib/python3.5/importlib/_bootstrap.py\u001b[0m in \u001b[0;36m_find_and_load\u001b[0;34m(name, import_)\u001b[0m\n",
      "\u001b[0;32m/Users/drabast/anaconda/lib/python3.5/importlib/_bootstrap.py\u001b[0m in \u001b[0;36m_find_and_load_unlocked\u001b[0;34m(name, import_)\u001b[0m\n",
      "\u001b[0;32m/Users/drabast/anaconda/lib/python3.5/importlib/_bootstrap.py\u001b[0m in \u001b[0;36m_call_with_frames_removed\u001b[0;34m(f, *args, **kwds)\u001b[0m\n",
      "\u001b[0;32m/Users/drabast/anaconda/lib/python3.5/importlib/_bootstrap.py\u001b[0m in \u001b[0;36m_gcd_import\u001b[0;34m(name, package, level)\u001b[0m\n",
      "\u001b[0;32m/Users/drabast/anaconda/lib/python3.5/importlib/_bootstrap.py\u001b[0m in \u001b[0;36m_find_and_load\u001b[0;34m(name, import_)\u001b[0m\n",
      "\u001b[0;32m/Users/drabast/anaconda/lib/python3.5/importlib/_bootstrap.py\u001b[0m in \u001b[0;36m_find_and_load_unlocked\u001b[0;34m(name, import_)\u001b[0m\n",
      "\u001b[0;31mImportError\u001b[0m: No module named 'selenium'",
      "\nDuring handling of the above exception, another exception occurred:\n",
      "\u001b[0;31mRuntimeError\u001b[0m                              Traceback (most recent call last)",
      "\u001b[0;32m<ipython-input-60-ab0248408354>\u001b[0m in \u001b[0;36m<module>\u001b[0;34m()\u001b[0m\n\u001b[1;32m     18\u001b[0m \u001b[0;32mfrom\u001b[0m \u001b[0mbokeh\u001b[0m\u001b[0;34m.\u001b[0m\u001b[0mio\u001b[0m \u001b[0;32mimport\u001b[0m \u001b[0mexport_png\u001b[0m\u001b[0;34m\u001b[0m\u001b[0m\n\u001b[1;32m     19\u001b[0m \u001b[0;34m\u001b[0m\u001b[0m\n\u001b[0;32m---> 20\u001b[0;31m \u001b[0mexport_png\u001b[0m\u001b[0;34m(\u001b[0m\u001b[0mp\u001b[0m\u001b[0;34m,\u001b[0m \u001b[0mfilename\u001b[0m\u001b[0;34m=\u001b[0m\u001b[0;34m\"bokeh_histogram.png\"\u001b[0m\u001b[0;34m)\u001b[0m\u001b[0;34m\u001b[0m\u001b[0m\n\u001b[0m",
      "\u001b[0;32m/Users/drabast/anaconda/lib/python3.5/site-packages/bokeh/util/api.py\u001b[0m in \u001b[0;36mwrapper\u001b[0;34m(*args, **kw)\u001b[0m\n\u001b[1;32m    188\u001b[0m         \u001b[0;34m@\u001b[0m\u001b[0mwraps\u001b[0m\u001b[0;34m(\u001b[0m\u001b[0mobj\u001b[0m\u001b[0;34m)\u001b[0m\u001b[0;34m\u001b[0m\u001b[0m\n\u001b[1;32m    189\u001b[0m         \u001b[0;32mdef\u001b[0m \u001b[0mwrapper\u001b[0m\u001b[0;34m(\u001b[0m\u001b[0;34m*\u001b[0m\u001b[0margs\u001b[0m\u001b[0;34m,\u001b[0m \u001b[0;34m**\u001b[0m\u001b[0mkw\u001b[0m\u001b[0;34m)\u001b[0m\u001b[0;34m:\u001b[0m\u001b[0;34m\u001b[0m\u001b[0m\n\u001b[0;32m--> 190\u001b[0;31m             \u001b[0;32mreturn\u001b[0m \u001b[0mobj\u001b[0m\u001b[0;34m(\u001b[0m\u001b[0;34m*\u001b[0m\u001b[0margs\u001b[0m\u001b[0;34m,\u001b[0m \u001b[0;34m**\u001b[0m\u001b[0mkw\u001b[0m\u001b[0;34m)\u001b[0m\u001b[0;34m\u001b[0m\u001b[0m\n\u001b[0m\u001b[1;32m    191\u001b[0m \u001b[0;34m\u001b[0m\u001b[0m\n\u001b[1;32m    192\u001b[0m         \u001b[0mwrapper\u001b[0m\u001b[0;34m.\u001b[0m\u001b[0m__bkversion__\u001b[0m \u001b[0;34m=\u001b[0m \u001b[0mversion\u001b[0m\u001b[0;34m\u001b[0m\u001b[0m\n",
      "\u001b[0;32m/Users/drabast/anaconda/lib/python3.5/site-packages/bokeh/io/export.py\u001b[0m in \u001b[0;36mexport_png\u001b[0;34m(obj, filename, height, width, webdriver)\u001b[0m\n\u001b[1;32m     81\u001b[0m     '''\n\u001b[1;32m     82\u001b[0m \u001b[0;34m\u001b[0m\u001b[0m\n\u001b[0;32m---> 83\u001b[0;31m     \u001b[0mimage\u001b[0m \u001b[0;34m=\u001b[0m \u001b[0mget_screenshot_as_png\u001b[0m\u001b[0;34m(\u001b[0m\u001b[0mobj\u001b[0m\u001b[0;34m,\u001b[0m \u001b[0mheight\u001b[0m\u001b[0;34m=\u001b[0m\u001b[0mheight\u001b[0m\u001b[0;34m,\u001b[0m \u001b[0mwidth\u001b[0m\u001b[0;34m=\u001b[0m\u001b[0mwidth\u001b[0m\u001b[0;34m,\u001b[0m \u001b[0mdriver\u001b[0m\u001b[0;34m=\u001b[0m\u001b[0mwebdriver\u001b[0m\u001b[0;34m)\u001b[0m\u001b[0;34m\u001b[0m\u001b[0m\n\u001b[0m\u001b[1;32m     84\u001b[0m \u001b[0;34m\u001b[0m\u001b[0m\n\u001b[1;32m     85\u001b[0m     \u001b[0;32mif\u001b[0m \u001b[0mfilename\u001b[0m \u001b[0;32mis\u001b[0m \u001b[0;32mNone\u001b[0m\u001b[0;34m:\u001b[0m\u001b[0;34m\u001b[0m\u001b[0m\n",
      "\u001b[0;32m/Users/drabast/anaconda/lib/python3.5/site-packages/bokeh/util/api.py\u001b[0m in \u001b[0;36mwrapper\u001b[0;34m(*args, **kw)\u001b[0m\n\u001b[1;32m    188\u001b[0m         \u001b[0;34m@\u001b[0m\u001b[0mwraps\u001b[0m\u001b[0;34m(\u001b[0m\u001b[0mobj\u001b[0m\u001b[0;34m)\u001b[0m\u001b[0;34m\u001b[0m\u001b[0m\n\u001b[1;32m    189\u001b[0m         \u001b[0;32mdef\u001b[0m \u001b[0mwrapper\u001b[0m\u001b[0;34m(\u001b[0m\u001b[0;34m*\u001b[0m\u001b[0margs\u001b[0m\u001b[0;34m,\u001b[0m \u001b[0;34m**\u001b[0m\u001b[0mkw\u001b[0m\u001b[0;34m)\u001b[0m\u001b[0;34m:\u001b[0m\u001b[0;34m\u001b[0m\u001b[0m\n\u001b[0;32m--> 190\u001b[0;31m             \u001b[0;32mreturn\u001b[0m \u001b[0mobj\u001b[0m\u001b[0;34m(\u001b[0m\u001b[0;34m*\u001b[0m\u001b[0margs\u001b[0m\u001b[0;34m,\u001b[0m \u001b[0;34m**\u001b[0m\u001b[0mkw\u001b[0m\u001b[0;34m)\u001b[0m\u001b[0;34m\u001b[0m\u001b[0m\n\u001b[0m\u001b[1;32m    191\u001b[0m \u001b[0;34m\u001b[0m\u001b[0m\n\u001b[1;32m    192\u001b[0m         \u001b[0mwrapper\u001b[0m\u001b[0;34m.\u001b[0m\u001b[0m__bkversion__\u001b[0m \u001b[0;34m=\u001b[0m \u001b[0mversion\u001b[0m\u001b[0;34m\u001b[0m\u001b[0m\n",
      "\u001b[0;32m/Users/drabast/anaconda/lib/python3.5/site-packages/bokeh/io/export.py\u001b[0m in \u001b[0;36mget_screenshot_as_png\u001b[0;34m(obj, driver, **kwargs)\u001b[0m\n\u001b[1;32m    159\u001b[0m     webdriver = import_required('selenium.webdriver',\n\u001b[1;32m    160\u001b[0m                                 \u001b[0;34m'To use bokeh.io.export_png you need selenium '\u001b[0m \u001b[0;34m+\u001b[0m\u001b[0;34m\u001b[0m\u001b[0m\n\u001b[0;32m--> 161\u001b[0;31m                                 '(\"conda install -c bokeh selenium\" or \"pip install selenium\")')\n\u001b[0m\u001b[1;32m    162\u001b[0m \u001b[0;34m\u001b[0m\u001b[0m\n\u001b[1;32m    163\u001b[0m     Image = import_required('PIL.Image',\n",
      "\u001b[0;32m/Users/drabast/anaconda/lib/python3.5/site-packages/bokeh/util/dependencies.py\u001b[0m in \u001b[0;36mimport_required\u001b[0;34m(mod_name, error_msg)\u001b[0m\n\u001b[1;32m     50\u001b[0m         \u001b[0;32mreturn\u001b[0m \u001b[0mimport_module\u001b[0m\u001b[0;34m(\u001b[0m\u001b[0mmod_name\u001b[0m\u001b[0;34m)\u001b[0m\u001b[0;34m\u001b[0m\u001b[0m\n\u001b[1;32m     51\u001b[0m     \u001b[0;32mexcept\u001b[0m \u001b[0mImportError\u001b[0m\u001b[0;34m:\u001b[0m\u001b[0;34m\u001b[0m\u001b[0m\n\u001b[0;32m---> 52\u001b[0;31m         \u001b[0;32mraise\u001b[0m \u001b[0mRuntimeError\u001b[0m\u001b[0;34m(\u001b[0m\u001b[0merror_msg\u001b[0m\u001b[0;34m)\u001b[0m\u001b[0;34m\u001b[0m\u001b[0m\n\u001b[0m\u001b[1;32m     53\u001b[0m \u001b[0;34m\u001b[0m\u001b[0m\n\u001b[1;32m     54\u001b[0m \u001b[0;32mdef\u001b[0m \u001b[0mdetect_phantomjs\u001b[0m\u001b[0;34m(\u001b[0m\u001b[0;34m)\u001b[0m\u001b[0;34m:\u001b[0m\u001b[0;34m\u001b[0m\u001b[0m\n",
      "\u001b[0;31mRuntimeError\u001b[0m: To use bokeh.io.export_png you need selenium (\"conda install -c bokeh selenium\" or \"pip install selenium\")"
     ]
    }
   ],
   "source": [
    "%%local\n",
    "from bokeh.io import show\n",
    "from bokeh.plotting import figure\n",
    "from bokeh.io import output_notebook\n",
    "output_notebook()\n",
    "\n",
    "labels = [str(round(e, 2)) for e in hist_MPG['bins']]\n",
    "\n",
    "p = figure(\n",
    "    x_range=labels, \n",
    "    plot_height=350, \n",
    "    title='Histogram of fuel economy'\n",
    ")\n",
    "\n",
    "p.vbar(x=labels, top=hist_MPG['counts'], width=0.9)\n",
    "\n",
    "show(p)\n",
    "\n",
    "from bokeh.io import export_png\n",
    "\n",
    "export_png(p, filename=\"bokeh_histogram.png\")"
   ]
  },
  {
   "cell_type": "markdown",
   "metadata": {},
   "source": [
    "# Visualizing interactions between features"
   ]
  },
  {
   "cell_type": "code",
   "execution_count": 35,
   "metadata": {
    "collapsed": true
   },
   "outputs": [],
   "source": [
    "scatter = (\n",
    "    no_outliers\n",
    "    .select('Displacement', 'Cylinders')\n",
    ")\n",
    "\n",
    "scatter.registerTempTable('scatter')"
   ]
  },
  {
   "cell_type": "code",
   "execution_count": 36,
   "metadata": {
    "collapsed": true
   },
   "outputs": [],
   "source": [
    "%%sql -o scatter_source -q\n",
    "SELECT * FROM scatter"
   ]
  },
  {
   "cell_type": "code",
   "execution_count": 37,
   "metadata": {},
   "outputs": [
    {
     "data": {
      "text/plain": [
       "<matplotlib.text.Text at 0x125bfed68>"
      ]
     },
     "execution_count": 37,
     "metadata": {},
     "output_type": "execute_result"
    },
    {
     "data": {
      "image/png": "[encoded data removed]",
      "text/plain": [
       "<matplotlib.figure.Figure at 0x1219d2358>"
      ]
     },
     "metadata": {},
     "output_type": "display_data"
    }
   ],
   "source": [
    "%%local\n",
    "%matplotlib inline\n",
    "import matplotlib.pyplot as plt\n",
    "plt.style.use('ggplot')\n",
    "\n",
    "fig = plt.figure(figsize=(12,9))\n",
    "ax = fig.add_subplot(1, 1, 1)\n",
    "ax.scatter(\n",
    "      list(scatter_source['Cylinders'])\n",
    "    , list(scatter_source['Displacement'])\n",
    "    , s = 200\n",
    "    , alpha = 0.5\n",
    ")\n",
    "\n",
    "ax.set_xlabel('Cylinders')\n",
    "ax.set_ylabel('Displacement')\n",
    "\n",
    "ax.set_title('Relationship between cylinders and displacement')"
   ]
  },
  {
   "cell_type": "code",
   "execution_count": 38,
   "metadata": {},
   "outputs": [
    {
     "data": {
      "text/html": [
       "\n",
       "<div class=\"bk-root\">\n",
       "    <div class=\"bk-plotdiv\" id=\"3db7b04e-f954-4b95-9a01-1a666912674f\"></div>\n",
       "</div>"
      ]
     },
     "metadata": {},
     "output_type": "display_data"
    },
    {
     "data": {
      "application/javascript": [
       "(function(root) {\n",
       "  function embed_document(root) {\n",
       "    \n",
       "  var docs_json = {\"450eb6cb-3b05-49a7-83da-dc517feec73c\":{\"roots\":{\"references\":[{\"attributes\":{},\"id\":\"8fc094cf-1174-45ee-ad30-1fa64d55abb7\",\"type\":\"BasicTickFormatter\"},{\"attributes\":{\"plot\":{\"id\":\"e8ef1f50-24bd-409b-be35-4641b8575cad\",\"subtype\":\"Figure\",\"type\":\"Plot\"},\"ticker\":{\"id\":\"46c2e779-bbab-436c-ba4f-557240d79efe\",\"type\":\"BasicTicker\"}},\"id\":\"a13a6e6e-d56e-4891-a4c5-dd4be4571d5c\",\"type\":\"Grid\"},{\"attributes\":{\"overlay\":{\"id\":\"a2da9704-c0ed-47b4-a3f5-b58cd43457d7\",\"type\":\"BoxAnnotation\"}},\"id\":\"7d0a1c8d-422f-4c04-b281-3b1bbbc799ab\",\"type\":\"BoxZoomTool\"},{\"attributes\":{},\"id\":\"6b518e36-92e2-4ac3-8a22-2cf3f37692b6\",\"type\":\"LinearScale\"},{\"attributes\":{},\"id\":\"46c2e779-bbab-436c-ba4f-557240d79efe\",\"type\":\"BasicTicker\"},{\"attributes\":{\"callback\":null},\"id\":\"a6429130-1057-484e-9cfc-e662b1a21e48\",\"type\":\"DataRange1d\"},{\"attributes\":{\"dimension\":1,\"plot\":{\"id\":\"e8ef1f50-24bd-409b-be35-4641b8575cad\",\"subtype\":\"Figure\",\"type\":\"Plot\"},\"ticker\":{\"id\":\"1e99d238-e17c-40ee-bf7d-a0010d97b7cc\",\"type\":\"BasicTicker\"}},\"id\":\"5955f9e7-9576-4d6c-97fc-8e55fa480dea\",\"type\":\"Grid\"},{\"attributes\":{\"active_drag\":\"auto\",\"active_inspect\":\"auto\",\"active_scroll\":\"auto\",\"active_tap\":\"auto\",\"tools\":[{\"id\":\"f2a582a7-a04e-4e4c-acaa-df519d0b8a4b\",\"type\":\"PanTool\"},{\"id\":\"ef899629-a63a-4ed8-ac82-e583ed977ab8\",\"type\":\"WheelZoomTool\"},{\"id\":\"7d0a1c8d-422f-4c04-b281-3b1bbbc799ab\",\"type\":\"BoxZoomTool\"},{\"id\":\"e435a5b6-2503-4e58-abaf-e66d96ff1277\",\"type\":\"SaveTool\"},{\"id\":\"f92b020e-dc0b-4713-9d3a-dbef0865d122\",\"type\":\"ResetTool\"},{\"id\":\"eb0d3d6b-eba5-43d7-8c37-f271b9215fdc\",\"type\":\"HelpTool\"}]},\"id\":\"ee1c9c6d-62ac-4938-bb34-4a19ca0f2706\",\"type\":\"Toolbar\"},{\"attributes\":{},\"id\":\"f2a582a7-a04e-4e4c-acaa-df519d0b8a4b\",\"type\":\"PanTool\"},{\"attributes\":{\"axis_label\":\"Displacement\",\"formatter\":{\"id\":\"8fc094cf-1174-45ee-ad30-1fa64d55abb7\",\"type\":\"BasicTickFormatter\"},\"plot\":{\"id\":\"e8ef1f50-24bd-409b-be35-4641b8575cad\",\"subtype\":\"Figure\",\"type\":\"Plot\"},\"ticker\":{\"id\":\"1e99d238-e17c-40ee-bf7d-a0010d97b7cc\",\"type\":\"BasicTicker\"}},\"id\":\"f88b369b-182e-4704-801d-14072fcd94bb\",\"type\":\"LinearAxis\"},{\"attributes\":{\"callback\":null},\"id\":\"d0acebb2-a912-40b1-b62d-6600bd6b9fc2\",\"type\":\"DataRange1d\"},{\"attributes\":{\"data_source\":{\"id\":\"c8e97603-0dbf-4b94-97da-d3fea19aa904\",\"type\":\"ColumnDataSource\"},\"glyph\":{\"id\":\"17c1b111-d4aa-4b3d-8694-56d665a42833\",\"type\":\"Circle\"},\"hover_glyph\":null,\"muted_glyph\":null,\"nonselection_glyph\":{\"id\":\"a854a70a-b210-4521-a47d-b518e90f0696\",\"type\":\"Circle\"},\"selection_glyph\":null,\"view\":{\"id\":\"7d20c414-8615-4eee-94d8-da5098652408\",\"type\":\"CDSView\"}},\"id\":\"69127ed5-49dc-49b5-8508-aaa8b79d2d44\",\"type\":\"GlyphRenderer\"},{\"attributes\":{},\"id\":\"f92b020e-dc0b-4713-9d3a-dbef0865d122\",\"type\":\"ResetTool\"},{\"attributes\":{\"axis_label\":\"Cylinders\",\"formatter\":{\"id\":\"01a2ce43-be33-43e0-b578-7b252636ab5e\",\"type\":\"BasicTickFormatter\"},\"plot\":{\"id\":\"e8ef1f50-24bd-409b-be35-4641b8575cad\",\"subtype\":\"Figure\",\"type\":\"Plot\"},\"ticker\":{\"id\":\"46c2e779-bbab-436c-ba4f-557240d79efe\",\"type\":\"BasicTicker\"}},\"id\":\"bb8fc513-421c-4252-939e-54239e1935a8\",\"type\":\"LinearAxis\"},{\"attributes\":{\"plot\":null,\"text\":\"Relationship between cylinders and displacement\"},\"id\":\"a66182cd-ff33-49c1-8077-4a71b5229797\",\"type\":\"Title\"},{\"attributes\":{\"below\":[{\"id\":\"bb8fc513-421c-4252-939e-54239e1935a8\",\"type\":\"LinearAxis\"}],\"left\":[{\"id\":\"f88b369b-182e-4704-801d-14072fcd94bb\",\"type\":\"LinearAxis\"}],\"renderers\":[{\"id\":\"bb8fc513-421c-4252-939e-54239e1935a8\",\"type\":\"LinearAxis\"},{\"id\":\"a13a6e6e-d56e-4891-a4c5-dd4be4571d5c\",\"type\":\"Grid\"},{\"id\":\"f88b369b-182e-4704-801d-14072fcd94bb\",\"type\":\"LinearAxis\"},{\"id\":\"5955f9e7-9576-4d6c-97fc-8e55fa480dea\",\"type\":\"Grid\"},{\"id\":\"a2da9704-c0ed-47b4-a3f5-b58cd43457d7\",\"type\":\"BoxAnnotation\"},{\"id\":\"69127ed5-49dc-49b5-8508-aaa8b79d2d44\",\"type\":\"GlyphRenderer\"}],\"title\":{\"id\":\"a66182cd-ff33-49c1-8077-4a71b5229797\",\"type\":\"Title\"},\"toolbar\":{\"id\":\"ee1c9c6d-62ac-4938-bb34-4a19ca0f2706\",\"type\":\"Toolbar\"},\"x_range\":{\"id\":\"a6429130-1057-484e-9cfc-e662b1a21e48\",\"type\":\"DataRange1d\"},\"x_scale\":{\"id\":\"8231ef06-f5ce-4a54-a6a1-ce6752416c8d\",\"type\":\"LinearScale\"},\"y_range\":{\"id\":\"d0acebb2-a912-40b1-b62d-6600bd6b9fc2\",\"type\":\"DataRange1d\"},\"y_scale\":{\"id\":\"6b518e36-92e2-4ac3-8a22-2cf3f37692b6\",\"type\":\"LinearScale\"}},\"id\":\"e8ef1f50-24bd-409b-be35-4641b8575cad\",\"subtype\":\"Figure\",\"type\":\"Plot\"},{\"attributes\":{},\"id\":\"1e99d238-e17c-40ee-bf7d-a0010d97b7cc\",\"type\":\"BasicTicker\"},{\"attributes\":{},\"id\":\"01a2ce43-be33-43e0-b578-7b252636ab5e\",\"type\":\"BasicTickFormatter\"},{\"attributes\":{},\"id\":\"eb0d3d6b-eba5-43d7-8c37-f271b9215fdc\",\"type\":\"HelpTool\"},{\"attributes\":{},\"id\":\"8231ef06-f5ce-4a54-a6a1-ce6752416c8d\",\"type\":\"LinearScale\"},{\"attributes\":{\"bottom_units\":\"screen\",\"fill_alpha\":{\"value\":0.5},\"fill_color\":{\"value\":\"lightgrey\"},\"left_units\":\"screen\",\"level\":\"overlay\",\"line_alpha\":{\"value\":1.0},\"line_color\":{\"value\":\"black\"},\"line_dash\":[4,4],\"line_width\":{\"value\":2},\"plot\":null,\"render_mode\":\"css\",\"right_units\":\"screen\",\"top_units\":\"screen\"},\"id\":\"a2da9704-c0ed-47b4-a3f5-b58cd43457d7\",\"type\":\"BoxAnnotation\"},{\"attributes\":{\"fill_alpha\":{\"value\":0.1},\"fill_color\":{\"value\":\"#1f77b4\"},\"line_alpha\":{\"value\":0.1},\"line_color\":{\"value\":\"#1f77b4\"},\"size\":{\"units\":\"screen\",\"value\":10},\"x\":{\"field\":\"x\"},\"y\":{\"field\":\"y\"}},\"id\":\"a854a70a-b210-4521-a47d-b518e90f0696\",\"type\":\"Circle\"},{\"attributes\":{\"callback\":null,\"column_names\":[\"x\",\"y\"],\"data\":{\"x\":[3,8,8,6,8,6,4,12,4,8,5,4,6,6,4,6],\"y\":[2.0,4.4,4.7,3.6,5.6,3.0,2.5,6.0,2.0,5.3,2.7,2.0,3.3,3.0,2.0,3.0]}},\"id\":\"c8e97603-0dbf-4b94-97da-d3fea19aa904\",\"type\":\"ColumnDataSource\"},{\"attributes\":{},\"id\":\"e435a5b6-2503-4e58-abaf-e66d96ff1277\",\"type\":\"SaveTool\"},{\"attributes\":{\"source\":{\"id\":\"c8e97603-0dbf-4b94-97da-d3fea19aa904\",\"type\":\"ColumnDataSource\"}},\"id\":\"7d20c414-8615-4eee-94d8-da5098652408\",\"type\":\"CDSView\"},{\"attributes\":{},\"id\":\"ef899629-a63a-4ed8-ac82-e583ed977ab8\",\"type\":\"WheelZoomTool\"},{\"attributes\":{\"fill_alpha\":{\"value\":0.2},\"fill_color\":{\"value\":\"#1f77b4\"},\"line_color\":{\"value\":\"#1f77b4\"},\"size\":{\"units\":\"screen\",\"value\":10},\"x\":{\"field\":\"x\"},\"y\":{\"field\":\"y\"}},\"id\":\"17c1b111-d4aa-4b3d-8694-56d665a42833\",\"type\":\"Circle\"}],\"root_ids\":[\"e8ef1f50-24bd-409b-be35-4641b8575cad\"]},\"title\":\"Bokeh Application\",\"version\":\"0.12.13\"}};\n",
       "  var render_items = [{\"docid\":\"450eb6cb-3b05-49a7-83da-dc517feec73c\",\"elementid\":\"3db7b04e-f954-4b95-9a01-1a666912674f\",\"modelid\":\"e8ef1f50-24bd-409b-be35-4641b8575cad\"}];\n",
       "  root.Bokeh.embed.embed_items_notebook(docs_json, render_items);\n",
       "\n",
       "  }\n",
       "  if (root.Bokeh !== undefined) {\n",
       "    embed_document(root);\n",
       "  } else {\n",
       "    var attempts = 0;\n",
       "    var timer = setInterval(function(root) {\n",
       "      if (root.Bokeh !== undefined) {\n",
       "        embed_document(root);\n",
       "        clearInterval(timer);\n",
       "      }\n",
       "      attempts++;\n",
       "      if (attempts > 100) {\n",
       "        console.log(\"Bokeh: ERROR: Unable to run BokehJS code because BokehJS library is missing\")\n",
       "        clearInterval(timer);\n",
       "      }\n",
       "    }, 10, root)\n",
       "  }\n",
       "})(window);"
      ],
      "application/vnd.bokehjs_exec.v0+json": ""
     },
     "metadata": {
      "application/vnd.bokehjs_exec.v0+json": {
       "id": "e8ef1f50-24bd-409b-be35-4641b8575cad"
      }
     },
     "output_type": "display_data"
    }
   ],
   "source": [
    "%%local \n",
    "from bokeh.io import show\n",
    "from bokeh.plotting import figure\n",
    "from bokeh.io import output_notebook\n",
    "output_notebook()\n",
    "p = figure(title = 'Relationship between cylinders and displacement')\n",
    "p.xaxis.axis_label = 'Cylinders'\n",
    "p.yaxis.axis_label = 'Displacement'\n",
    "\n",
    "p.circle(  list(scatter_source['Cylinders'])\n",
    "         , list(scatter_source['Displacement'])\n",
    "         , fill_alpha=0.2, size=10)\n",
    "\n",
    "show(p)"
   ]
  }
 ],
 "metadata": {
  "kernelspec": {
   "display_name": "PySpark3",
   "language": "",
   "name": "pyspark3kernel"
  },
  "language_info": {
   "codemirror_mode": {
    "name": "python",
    "version": 3
   },
   "mimetype": "text/x-python",
   "name": "pyspark3",
   "pygments_lexer": "python3"
  }
 },
 "nbformat": 4,
 "nbformat_minor": 2
}
